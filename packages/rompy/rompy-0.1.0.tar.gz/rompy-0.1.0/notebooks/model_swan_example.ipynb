{
 "cells": [
  {
   "cell_type": "markdown",
   "metadata": {},
   "source": [
    "# Example of generating a SWAN simulation"
   ]
  },
  {
   "cell_type": "code",
   "execution_count": 1,
   "metadata": {},
   "outputs": [],
   "source": [
    "%load_ext autoreload\n",
    "%autoreload 2\n",
    "%matplotlib inline"
   ]
  },
  {
   "cell_type": "code",
   "execution_count": 2,
   "metadata": {},
   "outputs": [
    {
     "data": {
      "text/plain": [
       "<xarray.core.options.set_options at 0x7fecfb6965e0>"
      ]
     },
     "execution_count": 2,
     "metadata": {},
     "output_type": "execute_result"
    }
   ],
   "source": [
    "import rompy\n",
    "import intake\n",
    "import numpy as np\n",
    "from rompy.swan import SwanModel, SwanGrid\n",
    "import xarray as xr\n",
    "xr.set_options(display_style='text')"
   ]
  },
  {
   "cell_type": "markdown",
   "metadata": {},
   "source": [
    "### Instantiate a model simulation"
   ]
  },
  {
   "cell_type": "code",
   "execution_count": 3,
   "metadata": {},
   "outputs": [
    {
     "name": "stdout",
     "output_type": "stream",
     "text": [
      "Default context: (from cookiecutter.json)\n",
      "OrderedDict([('run_id', 'run_0001'),\n",
      "             ('compute_start', '20200221.040000'),\n",
      "             ('compute_interval', '0.25 HR'),\n",
      "             ('compute_stop', '20200224.040000'),\n",
      "             ('out_start', '20200221.040000'),\n",
      "             ('out_intvl', '1.0 HR'),\n",
      "             ('output_locs',\n",
      "              OrderedDict([('coords',\n",
      "                            [['115.61', '-32.618'],\n",
      "                             ['115.686067', '-32.532381']])])),\n",
      "             ('cgrid', 'REG 115.68 -32.76 77 0.39 0.15 389 149'),\n",
      "             ('cgrid_read', ''),\n",
      "             ('wind_grid',\n",
      "              'REG 115.3 -32.8 0.0 2 3 0.3515625 0.234375  NONSTATION '\n",
      "              '20200221.040000  10800.0 S'),\n",
      "             ('wind_read', \"SERIES 'extracted.wind' 1 FORMAT '(3F8.1)'\"),\n",
      "             ('bottom_grid',\n",
      "              'REG 115.68 -32.76 77 390 150 0.001 0.001 EXC -99.0'),\n",
      "             ('bottom_file', 'bathy.bot'),\n",
      "             ('friction', 'MAD'),\n",
      "             ('friction_coeff', '0.1'),\n",
      "             ('spectra_file', 'boundary.spec'),\n",
      "             ('_generated_at', ''),\n",
      "             ('_generated_on', ''),\n",
      "             ('_generated_by', ''),\n",
      "             ('_template', '')])\n"
     ]
    }
   ],
   "source": [
    "new_simulation = SwanModel(run_id='test_swan',\n",
    "                           template='../rompy/templates/swan',\n",
    "#                            checkout='88c529557db', #allows for the optional specification of a particular commit for reproducability\n",
    "                           output_dir='simulations')"
   ]
  },
  {
   "cell_type": "code",
   "execution_count": 4,
   "metadata": {},
   "outputs": [
    {
     "data": {
      "text/plain": [
       "{'_template': '../rompy/templates/swan', '_checkout': None, 'model': 'SWAN'}"
      ]
     },
     "execution_count": 4,
     "metadata": {},
     "output_type": "execute_result"
    }
   ],
   "source": [
    "# Setting start out empty, only need to add values from the default context we want to replace\n",
    "new_simulation.settings"
   ]
  },
  {
   "cell_type": "markdown",
   "metadata": {},
   "source": [
    "### Parse the parameters of the grid defined in the template and create a SwanGrid object to conveniently get the bounding box"
   ]
  },
  {
   "cell_type": "code",
   "execution_count": 5,
   "metadata": {},
   "outputs": [],
   "source": [
    "grid=new_simulation.grid"
   ]
  },
  {
   "cell_type": "code",
   "execution_count": 6,
   "metadata": {},
   "outputs": [
    {
     "data": {
      "text/plain": [
       "(<Figure size 720x509.002 with 1 Axes>, <GeoAxesSubplot:>)"
      ]
     },
     "execution_count": 6,
     "metadata": {},
     "output_type": "execute_result"
    },
    {
     "data": {
      "image/png": "[encoded data removed]",
      "text/plain": [
       "<Figure size 720x509.002 with 1 Axes>"
      ]
     },
     "metadata": {
      "needs_background": "light"
     },
     "output_type": "display_data"
    }
   ],
   "source": [
    "grid.plot()"
   ]
  },
  {
   "cell_type": "code",
   "execution_count": 7,
   "metadata": {},
   "outputs": [],
   "source": [
    "min_lon, min_lat, max_lon, max_lat = grid.bbox(buffer=0.05)"
   ]
  },
  {
   "cell_type": "markdown",
   "metadata": {},
   "source": [
    "## Set simulation timeframe"
   ]
  },
  {
   "cell_type": "code",
   "execution_count": 8,
   "metadata": {},
   "outputs": [
    {
     "data": {
      "text/plain": [
       "{'_template': '../rompy/templates/swan',\n",
       " '_checkout': None,\n",
       " 'model': 'SWAN',\n",
       " 'compute_start': '20201214.000000',\n",
       " 'compute_stop': '20201215.000000',\n",
       " 'out_start': '20201214.000000'}"
      ]
     },
     "execution_count": 8,
     "metadata": {},
     "output_type": "execute_result"
    }
   ],
   "source": [
    "import pandas as pd\n",
    "\n",
    "startdt = pd.to_datetime('2020-12-14 00:00')\n",
    "enddt = startdt + pd.to_timedelta(1.,'d')\n",
    "\n",
    "new_simulation.settings['compute_start'] = startdt.strftime('%Y%m%d.%H%M%S')\n",
    "new_simulation.settings['compute_stop'] = enddt.strftime('%Y%m%d.%H%M%S')\n",
    "new_simulation.settings['out_start'] = new_simulation.settings['compute_start']\n",
    "new_simulation.settings"
   ]
  },
  {
   "cell_type": "markdown",
   "metadata": {},
   "source": [
    "## Gather boundary conditions"
   ]
  },
  {
   "cell_type": "markdown",
   "metadata": {},
   "source": [
    "### Winds\n",
    "\n",
    "Use the winds in the BoM Wavewatch model available on NCI"
   ]
  },
  {
   "cell_type": "code",
   "execution_count": null,
   "metadata": {},
   "outputs": [],
   "source": [
    "ds_wind = rompy.cat.bom.wavewatch3_nci(startdt=startdt,\n",
    "                                       enddt=enddt,\n",
    "                                       fmt_fields={'fcdate':[startdt.strftime('%Y%m%d')],\n",
    "                                                   'hr':['0000'],\n",
    "                                                   'grid':['PER'],\n",
    "                                                   'output':['msh']},\n",
    "                                       ds_filters={'subset':{'data_vars':['longitude','latitude','uwnd','vwnd']}},\n",
    "                                       hindcast=True\n",
    "                                      ).to_dask()\n",
    "\n",
    "# Crop to the region of the model domain and load data to memory for later interpolation\n",
    "ds_t0 = ds_wind.isel(time=0,drop=True)\n",
    "inds = (ds_t0.longitude > min_lon) & (ds_t0.longitude < max_lon) & (ds_t0.latitude > min_lat) & (ds_t0.latitude < max_lat)\n",
    "ds_wind = ds_wind.isel(node=inds).load()\n",
    "\n",
    "ds_wind"
   ]
  },
  {
   "cell_type": "markdown",
   "metadata": {},
   "source": [
    "Setup a regular swan grid to interpolate the unstructured wind mesh onto"
   ]
  },
  {
   "cell_type": "code",
   "execution_count": 10,
   "metadata": {},
   "outputs": [
    {
     "name": "stderr",
     "output_type": "stream",
     "text": [
      "uwnd: 100%|██████████| 25/25 [00:07<00:00,  3.54it/s]\n",
      "vwnd: 100%|██████████| 25/25 [00:06<00:00,  3.64it/s]\n"
     ]
    },
    {
     "data": {
      "text/html": [
       "<pre>&lt;xarray.Dataset&gt;\n",
       "Dimensions:  (m: 257, n: 167, time: 25)\n",
       "Coordinates:\n",
       "    init     (time) datetime64[ns] 2020-12-14 2020-12-14 ... 2020-12-14\n",
       "    lead     (time) int64 0 1 2 3 4 5 6 7 8 9 ... 15 16 17 18 19 20 21 22 23 24\n",
       "  * time     (time) datetime64[ns] 2020-12-14 2020-12-14T01:00:00 ... 2020-12-15\n",
       "Dimensions without coordinates: m, n\n",
       "Data variables:\n",
       "    lon      (m, n) float64 115.5 115.5 115.5 115.5 ... 115.8 115.8 115.8 115.8\n",
       "    lat      (m, n) float64 -32.81 -32.81 -32.81 -32.81 ... -32.3 -32.3 -32.3\n",
       "    u10      (time, m, n) float64 0.0 0.0 0.0 0.0 0.0 ... 0.0 0.0 0.0 0.0 0.0\n",
       "    v10      (time, m, n) float64 0.0 0.0 0.0 0.0 0.0 ... 0.0 0.0 0.0 0.0 0.0</pre>"
      ],
      "text/plain": [
       "<xarray.Dataset>\n",
       "Dimensions:  (m: 257, n: 167, time: 25)\n",
       "Coordinates:\n",
       "    init     (time) datetime64[ns] 2020-12-14 2020-12-14 ... 2020-12-14\n",
       "    lead     (time) int64 0 1 2 3 4 5 6 7 8 9 ... 15 16 17 18 19 20 21 22 23 24\n",
       "  * time     (time) datetime64[ns] 2020-12-14 2020-12-14T01:00:00 ... 2020-12-15\n",
       "Dimensions without coordinates: m, n\n",
       "Data variables:\n",
       "    lon      (m, n) float64 115.5 115.5 115.5 115.5 ... 115.8 115.8 115.8 115.8\n",
       "    lat      (m, n) float64 -32.81 -32.81 -32.81 -32.81 ... -32.3 -32.3 -32.3\n",
       "    u10      (time, m, n) float64 0.0 0.0 0.0 0.0 0.0 ... 0.0 0.0 0.0 0.0 0.0\n",
       "    v10      (time, m, n) float64 0.0 0.0 0.0 0.0 0.0 ... 0.0 0.0 0.0 0.0 0.0"
      ]
     },
     "execution_count": 10,
     "metadata": {},
     "output_type": "execute_result"
    }
   ],
   "source": [
    "from tqdm import trange\n",
    "from scipy.interpolate import LinearNDInterpolator\n",
    "import xarray as xr\n",
    "\n",
    "dx = 0.002\n",
    "wind_grid = SwanGrid(gridtype='REG',\n",
    "                     x0=min_lon,\n",
    "                     y0=min_lat,\n",
    "                     dx=dx,\n",
    "                     dy=dx,\n",
    "                     nx=int((max_lon-min_lon)/dx),\n",
    "                     ny=int((max_lat-min_lat)/dx),\n",
    "                     rot=0\n",
    "                    )\n",
    "\n",
    "interp_vars = {'uwnd':[],'vwnd':[]}\n",
    "for var,values in interp_vars.items():\n",
    "    for t in trange(len(ds_wind.time),desc=var):\n",
    "        ds_t = ds_wind.isel(time=t)\n",
    "        interp = LinearNDInterpolator(list(zip(ds_t.longitude, ds_t.latitude)), ds_t[var], fill_value=0)\n",
    "        values.append(interp(wind_grid.x,wind_grid.y))\n",
    "\n",
    "ds_wind_interpolated = xr.Dataset({'time':ds_wind.time,\n",
    "                                   'lon':(('m','n'),wind_grid.x),\n",
    "                                   'lat':(('m','n'),wind_grid.y),\n",
    "                                   'u10':(('time','m','n'),np.array(interp_vars['uwnd'])),\n",
    "                                   'v10':(('time','m','n'),np.array(interp_vars['vwnd'])),\n",
    "                                  })\n",
    "ds_wind_interpolated"
   ]
  },
  {
   "cell_type": "markdown",
   "metadata": {},
   "source": [
    "Write the interpolated winds to swan format, this function returns the corresponding swan commands for including in the simulation INPUT file"
   ]
  },
  {
   "cell_type": "code",
   "execution_count": 11,
   "metadata": {},
   "outputs": [
    {
     "name": "stdout",
     "output_type": "stream",
     "text": [
      "REG 115.48384449028222 -32.809999999999995 0 166 256 0.002 0.002 NONSTATION 20201214.000000 1.0 HR\n",
      "1 'wind.inp' 3 0 1 0 FREE\n"
     ]
    }
   ],
   "source": [
    "inpwind, readwind = ds_wind_interpolated.swan.to_inpgrid(new_simulation.staging_dir + '/wind.inp',\n",
    "                                                          var='WIND',\n",
    "                                                          grid=wind_grid,\n",
    "                                                          z1='u10',z2='v10')\n",
    "print(inpwind)\n",
    "print(readwind)\n",
    "new_simulation.settings['wind_grid'] = inpwind\n",
    "new_simulation.settings['wind_read'] = readwind"
   ]
  },
  {
   "cell_type": "markdown",
   "metadata": {},
   "source": [
    "### Wave Spectra"
   ]
  },
  {
   "cell_type": "code",
   "execution_count": 12,
   "metadata": {},
   "outputs": [
    {
     "data": {
      "text/html": [
       "<pre>&lt;xarray.Dataset&gt;\n",
       "Dimensions:       (direction: 24, frequency: 29, station: 167, time: 25)\n",
       "Coordinates:\n",
       "  * direction     (direction) float32 7.5 22.5 37.5 52.5 ... 322.5 337.5 352.5\n",
       "  * frequency     (frequency) float32 0.035 0.0385 0.04235 ... 0.4589 0.5047\n",
       "  * station       (station) int32 1 2 3 4 5 6 7 ... 161 162 163 164 165 166 167\n",
       "  * time          (time) datetime64[ns] 2020-12-14 ... 2020-12-15\n",
       "    init          (time) datetime64[ns] 2020-12-14 2020-12-14 ... 2020-12-14\n",
       "    lead          (time) int64 0 1 2 3 4 5 6 7 8 ... 16 17 18 19 20 21 22 23 24\n",
       "Data variables:\n",
       "    frequency1    (frequency, time) float32 dask.array&lt;chunksize=(29, 25), meta=np.ndarray&gt;\n",
       "    frequency2    (frequency, time) float32 dask.array&lt;chunksize=(29, 25), meta=np.ndarray&gt;\n",
       "    station_name  (station, time) |S64 dask.array&lt;chunksize=(167, 25), meta=np.ndarray&gt;\n",
       "    crs           (time) int32 -2147483647 -2147483647 ... -2147483647\n",
       "    cur           (station, time) float32 dask.array&lt;chunksize=(167, 25), meta=np.ndarray&gt;\n",
       "    curdir        (station, time) float32 dask.array&lt;chunksize=(167, 25), meta=np.ndarray&gt;\n",
       "    mean_dir      (station, time) float32 dask.array&lt;chunksize=(167, 25), meta=np.ndarray&gt;\n",
       "    dp            (station, time) float32 dask.array&lt;chunksize=(167, 25), meta=np.ndarray&gt;\n",
       "    dp_sea        (station, time) float32 dask.array&lt;chunksize=(167, 25), meta=np.ndarray&gt;\n",
       "    dp_sw         (station, time) float32 dask.array&lt;chunksize=(167, 25), meta=np.ndarray&gt;\n",
       "    dpt           (station, time) float32 dask.array&lt;chunksize=(167, 25), meta=np.ndarray&gt;\n",
       "    efth          (station, frequency, direction, time) float32 dask.array&lt;chunksize=(167, 29, 24, 25), meta=np.ndarray&gt;\n",
       "    hs            (station, time) float32 dask.array&lt;chunksize=(167, 25), meta=np.ndarray&gt;\n",
       "    hs_sea        (station, time) float32 dask.array&lt;chunksize=(167, 25), meta=np.ndarray&gt;\n",
       "    hs_sw         (station, time) float32 dask.array&lt;chunksize=(167, 25), meta=np.ndarray&gt;\n",
       "    latitude      (station, time) float32 dask.array&lt;chunksize=(167, 25), meta=np.ndarray&gt;\n",
       "    longitude     (station, time) float32 dask.array&lt;chunksize=(167, 25), meta=np.ndarray&gt;\n",
       "    pdir0         (station, time) float32 dask.array&lt;chunksize=(167, 25), meta=np.ndarray&gt;\n",
       "    pdir1         (station, time) float32 dask.array&lt;chunksize=(167, 25), meta=np.ndarray&gt;\n",
       "    pdir2         (station, time) float32 dask.array&lt;chunksize=(167, 25), meta=np.ndarray&gt;\n",
       "    pdp0          (station, time) float32 dask.array&lt;chunksize=(167, 25), meta=np.ndarray&gt;\n",
       "    pdp1          (station, time) float32 dask.array&lt;chunksize=(167, 25), meta=np.ndarray&gt;\n",
       "    pdp2          (station, time) float32 dask.array&lt;chunksize=(167, 25), meta=np.ndarray&gt;\n",
       "    phs0          (station, time) float32 dask.array&lt;chunksize=(167, 25), meta=np.ndarray&gt;\n",
       "    phs1          (station, time) float32 dask.array&lt;chunksize=(167, 25), meta=np.ndarray&gt;\n",
       "    phs2          (station, time) float32 dask.array&lt;chunksize=(167, 25), meta=np.ndarray&gt;\n",
       "    ppe0          (station, time) float32 dask.array&lt;chunksize=(167, 25), meta=np.ndarray&gt;\n",
       "    ppe1          (station, time) float32 dask.array&lt;chunksize=(167, 25), meta=np.ndarray&gt;\n",
       "    ppe2          (station, time) float32 dask.array&lt;chunksize=(167, 25), meta=np.ndarray&gt;\n",
       "    psig1         (station, time) float32 dask.array&lt;chunksize=(167, 25), meta=np.ndarray&gt;\n",
       "    psig2         (station, time) float32 dask.array&lt;chunksize=(167, 25), meta=np.ndarray&gt;\n",
       "    ptp0          (station, time) float32 dask.array&lt;chunksize=(167, 25), meta=np.ndarray&gt;\n",
       "    ptp1          (station, time) float32 dask.array&lt;chunksize=(167, 25), meta=np.ndarray&gt;\n",
       "    ptp2          (station, time) float32 dask.array&lt;chunksize=(167, 25), meta=np.ndarray&gt;\n",
       "    swe           (station, time) float32 dask.array&lt;chunksize=(167, 25), meta=np.ndarray&gt;\n",
       "    t01           (station, time) float32 dask.array&lt;chunksize=(167, 25), meta=np.ndarray&gt;\n",
       "    t02           (station, time) float32 dask.array&lt;chunksize=(167, 25), meta=np.ndarray&gt;\n",
       "    tp            (station, time) float32 dask.array&lt;chunksize=(167, 25), meta=np.ndarray&gt;\n",
       "    tp4           (station, time) float32 dask.array&lt;chunksize=(167, 25), meta=np.ndarray&gt;\n",
       "    tp_sea        (station, time) float32 dask.array&lt;chunksize=(167, 25), meta=np.ndarray&gt;\n",
       "    tp_sw         (station, time) float32 dask.array&lt;chunksize=(167, 25), meta=np.ndarray&gt;\n",
       "    cd            (station, time) float32 dask.array&lt;chunksize=(167, 25), meta=np.ndarray&gt;\n",
       "    wnd           (station, time) float32 dask.array&lt;chunksize=(167, 25), meta=np.ndarray&gt;\n",
       "    wnddir        (station, time) float32 dask.array&lt;chunksize=(167, 25), meta=np.ndarray&gt;\n",
       "Attributes:\n",
       "    product_name:                    per.2020_src.nc\n",
       "    history:                         Mon Dec 14 14:01:41 2020: ncks --overwri...\n",
       "    NCO:                             netCDF Operators version 4.7.7 (Homepage...\n",
       "    date_created:                    2020-12-14T14:02:20Z\n",
       "    program:                         WAVEWATCH_III(R)_version_number_6.07\n",
       "    Conventions:                     CF-1.6, ACDD-1.3\n",
       "    id:                              f1762_5247_9737_2398\n",
       "    naming_authority:                au.org.nci\n",
       "    title:                           AUSWAVE\n",
       "    date_modified:                   2020-12-14T14:02:20Z\n",
       "    date_issued:                     2020-12-14T14:02:20Z\n",
       "    references:                      http://www.bom.gov.au/research/\n",
       "    source:                          Perth triangular\n",
       "    comment:                         WAVEWATCH_III_switches: O0 O1 O2 IS0 IC0...\n",
       "    summary:                         (C) 2020. Research version of marine for...\n",
       "    standard_name_vocabulary:        CF Standard Name Table v47\n",
       "    keywords_vocabulary:             NASA Global Change Master Directory (GCM...\n",
       "    keywords:                        Earth Science &gt; Oceans &gt; Ocean Waves\n",
       "    institution:                     Australian Bureau of Meteorology\n",
       "    project:                         ep4\n",
       "    creator_name:                    Australian Bureau of Meteorology\n",
       "    creator_url:                     http://www.bom.gov.au\n",
       "    creator_email:                   oceanservices@bom.gov.au\n",
       "    contributor_name:                Stefan Zieger\n",
       "    contributor_role:                Research Scientist at Bureau of Meteorology\n",
       "    publisher_url:                   http://www.bom.gov.au\n",
       "    publisher_name:                  Australian Bureau of Meteorology\n",
       "    publisher_email:                 oceanservices@bom.gov.au\n",
       "    acknowledgement:                 Any users of this data are required to c...\n",
       "    license:                         Data is not to be copied or reproduced w...\n",
       "    disclaimer:                      You accept all risks and responsibility ...\n",
       "    distribution_statement:          see license\n",
       "    notes:                           [1] This dataset is a preliminary foreca...\n",
       "    geospatial_lat_max:              -31.4953\n",
       "    geospatial_lat_min:              -33.9909\n",
       "    geospatial_lat_units:            degrees_north\n",
       "    geospatial_lat_resolution:       n/a\n",
       "    geospatial_lon_max:              115.7349\n",
       "    geospatial_lon_min:              114.7644\n",
       "    geospatial_lon_units:            degrees_east\n",
       "    geospatial_lon_resolution:       n/a\n",
       "    geospatial_bounds:               POLYGON((114.764397 -33.990898,114.76439...\n",
       "    time_coverage_start:             2020-12-14T00:00:00Z\n",
       "    time_coverage_end:               2020-12-21T00:00:00Z\n",
       "    time_coverage_resolution:        PT1H28S\n",
       "    time_coverage_duration:          P7D\n",
       "    processing_level:                0 (raw model output)\n",
       "    DODS.strlen:                     16\n",
       "    DODS.dimName:                    string16\n",
       "    DODS_EXTRA.Unlimited_Dimension:  time</pre>"
      ],
      "text/plain": [
       "<xarray.Dataset>\n",
       "Dimensions:       (direction: 24, frequency: 29, station: 167, time: 25)\n",
       "Coordinates:\n",
       "  * direction     (direction) float32 7.5 22.5 37.5 52.5 ... 322.5 337.5 352.5\n",
       "  * frequency     (frequency) float32 0.035 0.0385 0.04235 ... 0.4589 0.5047\n",
       "  * station       (station) int32 1 2 3 4 5 6 7 ... 161 162 163 164 165 166 167\n",
       "  * time          (time) datetime64[ns] 2020-12-14 ... 2020-12-15\n",
       "    init          (time) datetime64[ns] 2020-12-14 2020-12-14 ... 2020-12-14\n",
       "    lead          (time) int64 0 1 2 3 4 5 6 7 8 ... 16 17 18 19 20 21 22 23 24\n",
       "Data variables:\n",
       "    frequency1    (frequency, time) float32 dask.array<chunksize=(29, 25), meta=np.ndarray>\n",
       "    frequency2    (frequency, time) float32 dask.array<chunksize=(29, 25), meta=np.ndarray>\n",
       "    station_name  (station, time) |S64 dask.array<chunksize=(167, 25), meta=np.ndarray>\n",
       "    crs           (time) int32 -2147483647 -2147483647 ... -2147483647\n",
       "    cur           (station, time) float32 dask.array<chunksize=(167, 25), meta=np.ndarray>\n",
       "    curdir        (station, time) float32 dask.array<chunksize=(167, 25), meta=np.ndarray>\n",
       "    mean_dir      (station, time) float32 dask.array<chunksize=(167, 25), meta=np.ndarray>\n",
       "    dp            (station, time) float32 dask.array<chunksize=(167, 25), meta=np.ndarray>\n",
       "    dp_sea        (station, time) float32 dask.array<chunksize=(167, 25), meta=np.ndarray>\n",
       "    dp_sw         (station, time) float32 dask.array<chunksize=(167, 25), meta=np.ndarray>\n",
       "    dpt           (station, time) float32 dask.array<chunksize=(167, 25), meta=np.ndarray>\n",
       "    efth          (station, frequency, direction, time) float32 dask.array<chunksize=(167, 29, 24, 25), meta=np.ndarray>\n",
       "    hs            (station, time) float32 dask.array<chunksize=(167, 25), meta=np.ndarray>\n",
       "    hs_sea        (station, time) float32 dask.array<chunksize=(167, 25), meta=np.ndarray>\n",
       "    hs_sw         (station, time) float32 dask.array<chunksize=(167, 25), meta=np.ndarray>\n",
       "    latitude      (station, time) float32 dask.array<chunksize=(167, 25), meta=np.ndarray>\n",
       "    longitude     (station, time) float32 dask.array<chunksize=(167, 25), meta=np.ndarray>\n",
       "    pdir0         (station, time) float32 dask.array<chunksize=(167, 25), meta=np.ndarray>\n",
       "    pdir1         (station, time) float32 dask.array<chunksize=(167, 25), meta=np.ndarray>\n",
       "    pdir2         (station, time) float32 dask.array<chunksize=(167, 25), meta=np.ndarray>\n",
       "    pdp0          (station, time) float32 dask.array<chunksize=(167, 25), meta=np.ndarray>\n",
       "    pdp1          (station, time) float32 dask.array<chunksize=(167, 25), meta=np.ndarray>\n",
       "    pdp2          (station, time) float32 dask.array<chunksize=(167, 25), meta=np.ndarray>\n",
       "    phs0          (station, time) float32 dask.array<chunksize=(167, 25), meta=np.ndarray>\n",
       "    phs1          (station, time) float32 dask.array<chunksize=(167, 25), meta=np.ndarray>\n",
       "    phs2          (station, time) float32 dask.array<chunksize=(167, 25), meta=np.ndarray>\n",
       "    ppe0          (station, time) float32 dask.array<chunksize=(167, 25), meta=np.ndarray>\n",
       "    ppe1          (station, time) float32 dask.array<chunksize=(167, 25), meta=np.ndarray>\n",
       "    ppe2          (station, time) float32 dask.array<chunksize=(167, 25), meta=np.ndarray>\n",
       "    psig1         (station, time) float32 dask.array<chunksize=(167, 25), meta=np.ndarray>\n",
       "    psig2         (station, time) float32 dask.array<chunksize=(167, 25), meta=np.ndarray>\n",
       "    ptp0          (station, time) float32 dask.array<chunksize=(167, 25), meta=np.ndarray>\n",
       "    ptp1          (station, time) float32 dask.array<chunksize=(167, 25), meta=np.ndarray>\n",
       "    ptp2          (station, time) float32 dask.array<chunksize=(167, 25), meta=np.ndarray>\n",
       "    swe           (station, time) float32 dask.array<chunksize=(167, 25), meta=np.ndarray>\n",
       "    t01           (station, time) float32 dask.array<chunksize=(167, 25), meta=np.ndarray>\n",
       "    t02           (station, time) float32 dask.array<chunksize=(167, 25), meta=np.ndarray>\n",
       "    tp            (station, time) float32 dask.array<chunksize=(167, 25), meta=np.ndarray>\n",
       "    tp4           (station, time) float32 dask.array<chunksize=(167, 25), meta=np.ndarray>\n",
       "    tp_sea        (station, time) float32 dask.array<chunksize=(167, 25), meta=np.ndarray>\n",
       "    tp_sw         (station, time) float32 dask.array<chunksize=(167, 25), meta=np.ndarray>\n",
       "    cd            (station, time) float32 dask.array<chunksize=(167, 25), meta=np.ndarray>\n",
       "    wnd           (station, time) float32 dask.array<chunksize=(167, 25), meta=np.ndarray>\n",
       "    wnddir        (station, time) float32 dask.array<chunksize=(167, 25), meta=np.ndarray>\n",
       "Attributes:\n",
       "    product_name:                    per.2020_src.nc\n",
       "    history:                         Mon Dec 14 14:01:41 2020: ncks --overwri...\n",
       "    NCO:                             netCDF Operators version 4.7.7 (Homepage...\n",
       "    date_created:                    2020-12-14T14:02:20Z\n",
       "    program:                         WAVEWATCH_III(R)_version_number_6.07\n",
       "    Conventions:                     CF-1.6, ACDD-1.3\n",
       "    id:                              f1762_5247_9737_2398\n",
       "    naming_authority:                au.org.nci\n",
       "    title:                           AUSWAVE\n",
       "    date_modified:                   2020-12-14T14:02:20Z\n",
       "    date_issued:                     2020-12-14T14:02:20Z\n",
       "    references:                      http://www.bom.gov.au/research/\n",
       "    source:                          Perth triangular\n",
       "    comment:                         WAVEWATCH_III_switches: O0 O1 O2 IS0 IC0...\n",
       "    summary:                         (C) 2020. Research version of marine for...\n",
       "    standard_name_vocabulary:        CF Standard Name Table v47\n",
       "    keywords_vocabulary:             NASA Global Change Master Directory (GCM...\n",
       "    keywords:                        Earth Science > Oceans > Ocean Waves\n",
       "    institution:                     Australian Bureau of Meteorology\n",
       "    project:                         ep4\n",
       "    creator_name:                    Australian Bureau of Meteorology\n",
       "    creator_url:                     http://www.bom.gov.au\n",
       "    creator_email:                   oceanservices@bom.gov.au\n",
       "    contributor_name:                Stefan Zieger\n",
       "    contributor_role:                Research Scientist at Bureau of Meteorology\n",
       "    publisher_url:                   http://www.bom.gov.au\n",
       "    publisher_name:                  Australian Bureau of Meteorology\n",
       "    publisher_email:                 oceanservices@bom.gov.au\n",
       "    acknowledgement:                 Any users of this data are required to c...\n",
       "    license:                         Data is not to be copied or reproduced w...\n",
       "    disclaimer:                      You accept all risks and responsibility ...\n",
       "    distribution_statement:          see license\n",
       "    notes:                           [1] This dataset is a preliminary foreca...\n",
       "    geospatial_lat_max:              -31.4953\n",
       "    geospatial_lat_min:              -33.9909\n",
       "    geospatial_lat_units:            degrees_north\n",
       "    geospatial_lat_resolution:       n/a\n",
       "    geospatial_lon_max:              115.7349\n",
       "    geospatial_lon_min:              114.7644\n",
       "    geospatial_lon_units:            degrees_east\n",
       "    geospatial_lon_resolution:       n/a\n",
       "    geospatial_bounds:               POLYGON((114.764397 -33.990898,114.76439...\n",
       "    time_coverage_start:             2020-12-14T00:00:00Z\n",
       "    time_coverage_end:               2020-12-21T00:00:00Z\n",
       "    time_coverage_resolution:        PT1H28S\n",
       "    time_coverage_duration:          P7D\n",
       "    processing_level:                0 (raw model output)\n",
       "    DODS.strlen:                     16\n",
       "    DODS.dimName:                    string16\n",
       "    DODS_EXTRA.Unlimited_Dimension:  time"
      ]
     },
     "execution_count": 12,
     "metadata": {},
     "output_type": "execute_result"
    }
   ],
   "source": [
    "ds_spec = rompy.cat.bom.wavewatch3_nci(startdt=startdt,\n",
    "                                       enddt=enddt,\n",
    "                                       fmt_fields={'fcdate':[startdt.strftime('%Y%m%d')],\n",
    "                                                   'hr':['0000'],\n",
    "                                                   'grid':['PER'],\n",
    "                                                   'output':['spec']},\n",
    "                                       ds_filters={'rename':{'dir':'mean_dir'}},\n",
    "                                       hindcast=True\n",
    "                                      ).to_dask()\n",
    "ds_spec"
   ]
  },
  {
   "cell_type": "code",
   "execution_count": 13,
   "metadata": {},
   "outputs": [
    {
     "data": {
      "text/html": [
       "<pre>&lt;xarray.Dataset&gt;\n",
       "Dimensions:  (dir: 24, freq: 29, site: 167, time: 25)\n",
       "Coordinates:\n",
       "  * dir      (dir) float32 7.5 22.5 37.5 52.5 67.5 ... 307.5 322.5 337.5 352.5\n",
       "  * freq     (freq) float32 0.035 0.0385 0.04235 ... 0.4171 0.4589 0.5047\n",
       "  * site     (site) int32 1 2 3 4 5 6 7 8 9 ... 160 161 162 163 164 165 166 167\n",
       "  * time     (time) datetime64[ns] 2020-12-14 2020-12-14T01:00:00 ... 2020-12-15\n",
       "    init     (time) datetime64[ns] 2020-12-14 2020-12-14 ... 2020-12-14\n",
       "    lead     (time) int64 0 1 2 3 4 5 6 7 8 9 ... 15 16 17 18 19 20 21 22 23 24\n",
       "Data variables:\n",
       "    dpt      (site, time) float32 dask.array&lt;chunksize=(167, 25), meta=np.ndarray&gt;\n",
       "    efth     (site, freq, dir, time) float32 dask.array&lt;chunksize=(167, 29, 24, 25), meta=np.ndarray&gt;\n",
       "    lat      (site) float32 dask.array&lt;chunksize=(167,), meta=np.ndarray&gt;\n",
       "    lon      (site) float32 dask.array&lt;chunksize=(167,), meta=np.ndarray&gt;\n",
       "    wspd     (site, time) float32 dask.array&lt;chunksize=(167, 25), meta=np.ndarray&gt;\n",
       "    wdir     (site, time) float32 dask.array&lt;chunksize=(167, 25), meta=np.ndarray&gt;\n",
       "Attributes:\n",
       "    product_name:                    per.2020_src.nc\n",
       "    history:                         Mon Dec 14 14:01:41 2020: ncks --overwri...\n",
       "    NCO:                             netCDF Operators version 4.7.7 (Homepage...\n",
       "    date_created:                    2020-12-14T14:02:20Z\n",
       "    program:                         WAVEWATCH_III(R)_version_number_6.07\n",
       "    Conventions:                     CF-1.6, ACDD-1.3\n",
       "    id:                              f1762_5247_9737_2398\n",
       "    naming_authority:                au.org.nci\n",
       "    title:                           AUSWAVE\n",
       "    date_modified:                   2020-12-14T14:02:20Z\n",
       "    date_issued:                     2020-12-14T14:02:20Z\n",
       "    references:                      http://www.bom.gov.au/research/\n",
       "    source:                          Perth triangular\n",
       "    comment:                         WAVEWATCH_III_switches: O0 O1 O2 IS0 IC0...\n",
       "    summary:                         (C) 2020. Research version of marine for...\n",
       "    standard_name_vocabulary:        CF Standard Name Table v47\n",
       "    keywords_vocabulary:             NASA Global Change Master Directory (GCM...\n",
       "    keywords:                        Earth Science &gt; Oceans &gt; Ocean Waves\n",
       "    institution:                     Australian Bureau of Meteorology\n",
       "    project:                         ep4\n",
       "    creator_name:                    Australian Bureau of Meteorology\n",
       "    creator_url:                     http://www.bom.gov.au\n",
       "    creator_email:                   oceanservices@bom.gov.au\n",
       "    contributor_name:                Stefan Zieger\n",
       "    contributor_role:                Research Scientist at Bureau of Meteorology\n",
       "    publisher_url:                   http://www.bom.gov.au\n",
       "    publisher_name:                  Australian Bureau of Meteorology\n",
       "    publisher_email:                 oceanservices@bom.gov.au\n",
       "    acknowledgement:                 Any users of this data are required to c...\n",
       "    license:                         Data is not to be copied or reproduced w...\n",
       "    disclaimer:                      You accept all risks and responsibility ...\n",
       "    distribution_statement:          see license\n",
       "    notes:                           [1] This dataset is a preliminary foreca...\n",
       "    geospatial_lat_max:              -31.4953\n",
       "    geospatial_lat_min:              -33.9909\n",
       "    geospatial_lat_units:            degrees_north\n",
       "    geospatial_lat_resolution:       n/a\n",
       "    geospatial_lon_max:              115.7349\n",
       "    geospatial_lon_min:              114.7644\n",
       "    geospatial_lon_units:            degrees_east\n",
       "    geospatial_lon_resolution:       n/a\n",
       "    geospatial_bounds:               POLYGON((114.764397 -33.990898,114.76439...\n",
       "    time_coverage_start:             2020-12-14T00:00:00Z\n",
       "    time_coverage_end:               2020-12-21T00:00:00Z\n",
       "    time_coverage_resolution:        PT1H28S\n",
       "    time_coverage_duration:          P7D\n",
       "    processing_level:                0 (raw model output)\n",
       "    DODS.strlen:                     16\n",
       "    DODS.dimName:                    string16\n",
       "    DODS_EXTRA.Unlimited_Dimension:  time</pre>"
      ],
      "text/plain": [
       "<xarray.Dataset>\n",
       "Dimensions:  (dir: 24, freq: 29, site: 167, time: 25)\n",
       "Coordinates:\n",
       "  * dir      (dir) float32 7.5 22.5 37.5 52.5 67.5 ... 307.5 322.5 337.5 352.5\n",
       "  * freq     (freq) float32 0.035 0.0385 0.04235 ... 0.4171 0.4589 0.5047\n",
       "  * site     (site) int32 1 2 3 4 5 6 7 8 9 ... 160 161 162 163 164 165 166 167\n",
       "  * time     (time) datetime64[ns] 2020-12-14 2020-12-14T01:00:00 ... 2020-12-15\n",
       "    init     (time) datetime64[ns] 2020-12-14 2020-12-14 ... 2020-12-14\n",
       "    lead     (time) int64 0 1 2 3 4 5 6 7 8 9 ... 15 16 17 18 19 20 21 22 23 24\n",
       "Data variables:\n",
       "    dpt      (site, time) float32 dask.array<chunksize=(167, 25), meta=np.ndarray>\n",
       "    efth     (site, freq, dir, time) float32 dask.array<chunksize=(167, 29, 24, 25), meta=np.ndarray>\n",
       "    lat      (site) float32 dask.array<chunksize=(167,), meta=np.ndarray>\n",
       "    lon      (site) float32 dask.array<chunksize=(167,), meta=np.ndarray>\n",
       "    wspd     (site, time) float32 dask.array<chunksize=(167, 25), meta=np.ndarray>\n",
       "    wdir     (site, time) float32 dask.array<chunksize=(167, 25), meta=np.ndarray>\n",
       "Attributes:\n",
       "    product_name:                    per.2020_src.nc\n",
       "    history:                         Mon Dec 14 14:01:41 2020: ncks --overwri...\n",
       "    NCO:                             netCDF Operators version 4.7.7 (Homepage...\n",
       "    date_created:                    2020-12-14T14:02:20Z\n",
       "    program:                         WAVEWATCH_III(R)_version_number_6.07\n",
       "    Conventions:                     CF-1.6, ACDD-1.3\n",
       "    id:                              f1762_5247_9737_2398\n",
       "    naming_authority:                au.org.nci\n",
       "    title:                           AUSWAVE\n",
       "    date_modified:                   2020-12-14T14:02:20Z\n",
       "    date_issued:                     2020-12-14T14:02:20Z\n",
       "    references:                      http://www.bom.gov.au/research/\n",
       "    source:                          Perth triangular\n",
       "    comment:                         WAVEWATCH_III_switches: O0 O1 O2 IS0 IC0...\n",
       "    summary:                         (C) 2020. Research version of marine for...\n",
       "    standard_name_vocabulary:        CF Standard Name Table v47\n",
       "    keywords_vocabulary:             NASA Global Change Master Directory (GCM...\n",
       "    keywords:                        Earth Science > Oceans > Ocean Waves\n",
       "    institution:                     Australian Bureau of Meteorology\n",
       "    project:                         ep4\n",
       "    creator_name:                    Australian Bureau of Meteorology\n",
       "    creator_url:                     http://www.bom.gov.au\n",
       "    creator_email:                   oceanservices@bom.gov.au\n",
       "    contributor_name:                Stefan Zieger\n",
       "    contributor_role:                Research Scientist at Bureau of Meteorology\n",
       "    publisher_url:                   http://www.bom.gov.au\n",
       "    publisher_name:                  Australian Bureau of Meteorology\n",
       "    publisher_email:                 oceanservices@bom.gov.au\n",
       "    acknowledgement:                 Any users of this data are required to c...\n",
       "    license:                         Data is not to be copied or reproduced w...\n",
       "    disclaimer:                      You accept all risks and responsibility ...\n",
       "    distribution_statement:          see license\n",
       "    notes:                           [1] This dataset is a preliminary foreca...\n",
       "    geospatial_lat_max:              -31.4953\n",
       "    geospatial_lat_min:              -33.9909\n",
       "    geospatial_lat_units:            degrees_north\n",
       "    geospatial_lat_resolution:       n/a\n",
       "    geospatial_lon_max:              115.7349\n",
       "    geospatial_lon_min:              114.7644\n",
       "    geospatial_lon_units:            degrees_east\n",
       "    geospatial_lon_resolution:       n/a\n",
       "    geospatial_bounds:               POLYGON((114.764397 -33.990898,114.76439...\n",
       "    time_coverage_start:             2020-12-14T00:00:00Z\n",
       "    time_coverage_end:               2020-12-21T00:00:00Z\n",
       "    time_coverage_resolution:        PT1H28S\n",
       "    time_coverage_duration:          P7D\n",
       "    processing_level:                0 (raw model output)\n",
       "    DODS.strlen:                     16\n",
       "    DODS.dimName:                    string16\n",
       "    DODS_EXTRA.Unlimited_Dimension:  time"
      ]
     },
     "execution_count": 13,
     "metadata": {},
     "output_type": "execute_result"
    }
   ],
   "source": [
    "import wavespectra as ws\n",
    "ds_spec = ws.read_dataset(ds_spec) #Convert it to wavespectra format\n",
    "ds_spec = ds_spec.sortby('dir')\n",
    "ds_spec"
   ]
  },
  {
   "cell_type": "markdown",
   "metadata": {},
   "source": [
    "### Find the spectra within some distance of the boundary"
   ]
  },
  {
   "cell_type": "code",
   "execution_count": 14,
   "metadata": {},
   "outputs": [
    {
     "data": {
      "image/png": "[encoded data removed]",
      "text/plain": [
       "<Figure size 720x509.002 with 1 Axes>"
      ]
     },
     "metadata": {
      "needs_background": "light"
     },
     "output_type": "display_data"
    }
   ],
   "source": [
    "ds_boundary = grid.nearby_spectra(ds_spec,dist_thres=0.02)"
   ]
  },
  {
   "cell_type": "markdown",
   "metadata": {},
   "source": [
    "### Times in swan controlled by spectra, make sure that they are consistent with the wind"
   ]
  },
  {
   "cell_type": "code",
   "execution_count": 15,
   "metadata": {},
   "outputs": [
    {
     "data": {
      "text/plain": [
       "True"
      ]
     },
     "execution_count": 15,
     "metadata": {},
     "output_type": "execute_result"
    }
   ],
   "source": [
    "check=[st == wt for st,wt in zip(ds_spec.time.values,ds_wind.time.values)]\n",
    "any(check)"
   ]
  },
  {
   "cell_type": "markdown",
   "metadata": {},
   "source": [
    "### Save spectral forcing to swan format"
   ]
  },
  {
   "cell_type": "code",
   "execution_count": 16,
   "metadata": {},
   "outputs": [],
   "source": [
    "ds_boundary.spec.to_swan(new_simulation.staging_dir + '/' + new_simulation.default_context['spectra_file'])"
   ]
  },
  {
   "cell_type": "markdown",
   "metadata": {},
   "source": [
    "### Setup spectral output points - a grid and specific points at buoys"
   ]
  },
  {
   "cell_type": "code",
   "execution_count": 17,
   "metadata": {},
   "outputs": [],
   "source": [
    "output_locs = []\n",
    "\n",
    "bbox = grid.bbox()\n",
    "\n",
    "from owslib.wfs import WebFeatureService\n",
    "wfs_url='http://geoserver-123.aodn.org.au/geoserver/wfs'\n",
    "wfs_endpoint = 'aodn:aodn_wave_nrt_timeseries_map'\n",
    "wfs = WebFeatureService(wfs_url,version='2.0.0')\n",
    "response = wfs.getfeature(typename=wfs_endpoint,bbox=tuple(bbox),outputFormat='csv')\n",
    "df = pd.read_csv(response)\n",
    "df = df.groupby(['wmo_id','latitude','longitude']).mean()\n",
    "\n",
    "for (wmo_id,yp,xp), data in df.iterrows():\n",
    "    output_locs.append([str(round(xp,2)),str(round(yp,2))])\n",
    "\n",
    "spec_int = 0.05\n",
    "xx = np.arange(round(bbox[0]+spec_int,2),round(bbox[2]-spec_int,2),spec_int)\n",
    "yy = np.arange(round(bbox[1]+spec_int,2),round(bbox[3]-spec_int,2),spec_int)\n",
    "specout_x, specout_y = np.meshgrid(xx,yy)\n",
    "for i, (xp,yp) in enumerate(zip(specout_x.ravel(),specout_y.ravel())):\n",
    "    output_locs.append([str(round(xp,2)),str(round(yp,2))])\n",
    "\n",
    "new_simulation.settings[\"output_locs\"] = {'coords':output_locs}"
   ]
  },
  {
   "cell_type": "markdown",
   "metadata": {},
   "source": [
    "### Generate the simulation files"
   ]
  },
  {
   "cell_type": "code",
   "execution_count": 18,
   "metadata": {},
   "outputs": [
    {
     "data": {
      "text/plain": [
       "{'_template': '../rompy/templates/swan',\n",
       " '_checkout': None,\n",
       " 'model': 'SWAN',\n",
       " 'compute_start': '20201214.000000',\n",
       " 'compute_stop': '20201215.000000',\n",
       " 'out_start': '20201214.000000',\n",
       " 'wind_grid': 'REG 115.48384449028222 -32.809999999999995 0 166 256 0.002 0.002 NONSTATION 20201214.000000 1.0 HR',\n",
       " 'wind_read': \"1 'wind.inp' 3 0 1 0 FREE\",\n",
       " 'output_locs': {'coords': [['115.57', '-32.45'],\n",
       "   ['115.58', '-32.71'],\n",
       "   ['115.63', '-32.71'],\n",
       "   ['115.68', '-32.71'],\n",
       "   ['115.58', '-32.66'],\n",
       "   ['115.63', '-32.66'],\n",
       "   ['115.68', '-32.66'],\n",
       "   ['115.58', '-32.61'],\n",
       "   ['115.63', '-32.61'],\n",
       "   ['115.68', '-32.61'],\n",
       "   ['115.58', '-32.56'],\n",
       "   ['115.63', '-32.56'],\n",
       "   ['115.68', '-32.56'],\n",
       "   ['115.58', '-32.51'],\n",
       "   ['115.63', '-32.51'],\n",
       "   ['115.68', '-32.51'],\n",
       "   ['115.58', '-32.46'],\n",
       "   ['115.63', '-32.46'],\n",
       "   ['115.68', '-32.46'],\n",
       "   ['115.58', '-32.41'],\n",
       "   ['115.63', '-32.41'],\n",
       "   ['115.68', '-32.41']]}}"
      ]
     },
     "execution_count": 18,
     "metadata": {},
     "output_type": "execute_result"
    }
   ],
   "source": [
    "new_simulation.settings"
   ]
  },
  {
   "cell_type": "code",
   "execution_count": 19,
   "metadata": {},
   "outputs": [
    {
     "data": {
      "text/plain": [
       "'/home/bra467/repos/rompy/notebooks/simulations/test_swan'"
      ]
     },
     "execution_count": 19,
     "metadata": {},
     "output_type": "execute_result"
    }
   ],
   "source": [
    "new_simulation.generate()"
   ]
  },
  {
   "cell_type": "markdown",
   "metadata": {},
   "source": [
    "### retain the extracted data in netcdf format"
   ]
  },
  {
   "cell_type": "code",
   "execution_count": 20,
   "metadata": {},
   "outputs": [],
   "source": [
    "ds_spec.to_netcdf(new_simulation.staging_dir + '/downloads/wavewatch.nc')\n",
    "ds_wind.to_netcdf(new_simulation.staging_dir + '/downloads/access.nc')"
   ]
  },
  {
   "cell_type": "markdown",
   "metadata": {},
   "source": [
    "### (optionally) zip up the files"
   ]
  },
  {
   "cell_type": "code",
   "execution_count": 21,
   "metadata": {},
   "outputs": [],
   "source": [
    "# new_simulation.zip()"
   ]
  },
  {
   "cell_type": "code",
   "execution_count": 22,
   "metadata": {},
   "outputs": [
    {
     "data": {
      "text/plain": [
       "'/home/bra467/repos/rompy/notebooks/simulations/test_swan'"
      ]
     },
     "execution_count": 22,
     "metadata": {},
     "output_type": "execute_result"
    }
   ],
   "source": [
    "new_simulation.staging_dir "
   ]
  },
  {
   "cell_type": "markdown",
   "metadata": {},
   "source": [
    "### If a compiled version of the swan model is available this should run..."
   ]
  },
  {
   "cell_type": "code",
   "execution_count": 23,
   "metadata": {},
   "outputs": [
    {
     "name": "stdout",
     "output_type": "stream",
     "text": [
      "\n",
      " SWAN is preparing computation\n",
      "\n",
      "+SWAN is processing output request    1\n",
      "+SWAN is processing output request    2\n",
      "+SWAN is processing output request    3\n",
      " Number of threads during execution of parallel region = 12\n",
      "\n",
      "+time 20201214.001500   , step      1; iteration    1; sweep 1\n",
      "+time 20201214.001500   , step      1; iteration    1; sweep 2\n",
      "+time 20201214.001500   , step      1; iteration    1; sweep 3\n",
      "+time 20201214.001500   , step      1; iteration    1; sweep 4\n",
      "+time 20201214.001500   , step      1; iteration    2; sweep 1\n",
      "+time 20201214.001500   , step      1; iteration    2; sweep 2\n",
      "+time 20201214.001500   , step      1; iteration    2; sweep 3\n",
      "+time 20201214.001500   , step      1; iteration    2; sweep 4\n",
      "+time 20201214.003000   , step      2; iteration    1; sweep 1\n",
      "+time 20201214.003000   , step      2; iteration    1; sweep 2\n",
      "+time 20201214.003000   , step      2; iteration    1; sweep 3\n",
      "+time 20201214.003000   , step      2; iteration    1; sweep 4\n",
      "+time 20201214.004500   , step      3; iteration    1; sweep 1\n",
      "+time 20201214.004500   , step      3; iteration    1; sweep 2\n",
      "+time 20201214.004500   , step      3; iteration    1; sweep 3\n",
      "+time 20201214.004500   , step      3; iteration    1; sweep 4\n",
      "+time 20201214.010000   , step      4; iteration    1; sweep 1\n",
      "+time 20201214.010000   , step      4; iteration    1; sweep 2\n",
      "+time 20201214.010000   , step      4; iteration    1; sweep 3\n",
      "+time 20201214.010000   , step      4; iteration    1; sweep 4\n",
      "+SWAN is processing output request    1\n",
      "+SWAN is processing output request    2\n",
      "+SWAN is processing output request    3\n",
      "+time 20201214.011500   , step      5; iteration    1; sweep 1\n",
      "+time 20201214.011500   , step      5; iteration    1; sweep 2\n",
      "+time 20201214.011500   , step      5; iteration    1; sweep 3\n",
      "+time 20201214.011500   , step      5; iteration    1; sweep 4\n",
      "+time 20201214.013000   , step      6; iteration    1; sweep 1\n",
      "+time 20201214.013000   , step      6; iteration    1; sweep 2\n",
      "+time 20201214.013000   , step      6; iteration    1; sweep 3\n",
      "+time 20201214.013000   , step      6; iteration    1; sweep 4\n",
      "+time 20201214.014500   , step      7; iteration    1; sweep 1\n",
      "+time 20201214.014500   , step      7; iteration    1; sweep 2\n",
      "+time 20201214.014500   , step      7; iteration    1; sweep 3\n",
      "+time 20201214.014500   , step      7; iteration    1; sweep 4\n",
      "+time 20201214.020000   , step      8; iteration    1; sweep 1\n",
      "+time 20201214.020000   , step      8; iteration    1; sweep 2\n",
      "^C\n"
     ]
    }
   ],
   "source": [
    "!cd simulations/test_swan && ~/swan4131/swan.exe"
   ]
  },
  {
   "cell_type": "code",
   "execution_count": null,
   "metadata": {},
   "outputs": [],
   "source": []
  }
 ],
 "metadata": {
  "kernelspec": {
   "display_name": "Python 3 (ipykernel)",
   "language": "python",
   "name": "python3"
  },
  "language_info": {
   "codemirror_mode": {
    "name": "ipython",
    "version": 3
   },
   "file_extension": ".py",
   "mimetype": "text/x-python",
   "name": "python",
   "nbconvert_exporter": "python",
   "pygments_lexer": "ipython3",
   "version": "3.8.10"
  }
 },
 "nbformat": 4,
 "nbformat_minor": 4
}
