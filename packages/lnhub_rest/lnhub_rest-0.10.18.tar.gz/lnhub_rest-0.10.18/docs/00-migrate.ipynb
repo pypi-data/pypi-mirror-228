{
 "cells": [
  {
   "cell_type": "markdown",
   "metadata": {
    "tags": []
   },
   "source": [
    "# Test migration"
   ]
  },
  {
   "attachments": {},
   "cell_type": "markdown",
   "metadata": {},
   "source": [
    "This notebook should only be accessed after running `lnhub jupyter`. This is essential to ensure that the local Supabase instance is running and that the settings are properly configured to access."
   ]
  },
  {
   "cell_type": "code",
   "execution_count": 1,
   "metadata": {
    "tags": []
   },
   "outputs": [],
   "source": [
    "from lnhub_rest.schema.migrations.testing import (\n",
    "    migration_id_is_consistent,\n",
    "    model_definitions_match_ddl,\n",
    ")"
   ]
  },
  {
   "cell_type": "code",
   "execution_count": 2,
   "metadata": {},
   "outputs": [
    {
     "data": {
      "text/plain": [
       "True"
      ]
     },
     "execution_count": 2,
     "metadata": {},
     "output_type": "execute_result"
    }
   ],
   "source": [
    "migration_id_is_consistent()  # checks consistency of the migration id in scripts with the one in schema/__init__.py"
   ]
  },
  {
   "cell_type": "code",
   "execution_count": 3,
   "metadata": {},
   "outputs": [
    {
     "ename": "AttributeError",
     "evalue": "'NoneType' object has no attribute '_instantiate_plugins'",
     "output_type": "error",
     "traceback": [
      "\u001b[0;31m---------------------------------------------------------------------------\u001b[0m",
      "\u001b[0;31mAttributeError\u001b[0m                            Traceback (most recent call last)",
      "Cell \u001b[0;32mIn[3], line 1\u001b[0m\n\u001b[0;32m----> 1\u001b[0m model_definitions_match_ddl()\n",
      "File \u001b[0;32m~/laminlabs/lnhub-rest/lnhub_rest/schema/migrations/testing.py:52\u001b[0m, in \u001b[0;36mmodel_definitions_match_ddl\u001b[0;34m(test_db)\u001b[0m\n\u001b[1;32m     49\u001b[0m     settings \u001b[39m=\u001b[39m Settings()\n\u001b[1;32m     50\u001b[0m     test_db \u001b[39m=\u001b[39m settings\u001b[39m.\u001b[39mpostgres_dsn\n\u001b[0;32m---> 52\u001b[0m alembic_runner \u001b[39m=\u001b[39m get_migration_context(test_db)\n\u001b[1;32m     54\u001b[0m \u001b[39mdef\u001b[39;00m \u001b[39mverify_is_empty_revision\u001b[39m(migration_context, __, directives):\n\u001b[1;32m     55\u001b[0m     script \u001b[39m=\u001b[39m directives[\u001b[39m0\u001b[39m]\n",
      "File \u001b[0;32m~/laminlabs/lnhub-rest/lnhub_rest/schema/migrations/testing.py:89\u001b[0m, in \u001b[0;36mget_migration_context\u001b[0;34m(connection_string)\u001b[0m\n\u001b[1;32m     88\u001b[0m \u001b[39mdef\u001b[39;00m \u001b[39mget_migration_context\u001b[39m(connection_string):\n\u001b[0;32m---> 89\u001b[0m     engine \u001b[39m=\u001b[39m sa\u001b[39m.\u001b[39;49mcreate_engine(connection_string, future\u001b[39m=\u001b[39;49m\u001b[39mTrue\u001b[39;49;00m)\n\u001b[1;32m     90\u001b[0m     target_metadata \u001b[39m=\u001b[39m SQLModel\u001b[39m.\u001b[39mmetadata\n\u001b[1;32m     91\u001b[0m     config \u001b[39m=\u001b[39m get_migration_config(\n\u001b[1;32m     92\u001b[0m         target_metadata\u001b[39m=\u001b[39mtarget_metadata,\n\u001b[1;32m     93\u001b[0m         include_schemas\u001b[39m=\u001b[39m\u001b[39mTrue\u001b[39;00m,\n\u001b[1;32m     94\u001b[0m         include_name\u001b[39m=\u001b[39minclude_name,\n\u001b[1;32m     95\u001b[0m     )\n",
      "File \u001b[0;32m<string>:2\u001b[0m, in \u001b[0;36mcreate_engine\u001b[0;34m(url, **kwargs)\u001b[0m\n",
      "File \u001b[0;32m~/opt/miniconda3/envs/lamin-dev/lib/python3.9/site-packages/sqlalchemy/util/deprecations.py:309\u001b[0m, in \u001b[0;36mdeprecated_params.<locals>.decorate.<locals>.warned\u001b[0;34m(fn, *args, **kwargs)\u001b[0m\n\u001b[1;32m    302\u001b[0m     \u001b[39mif\u001b[39;00m m \u001b[39min\u001b[39;00m kwargs:\n\u001b[1;32m    303\u001b[0m         _warn_with_version(\n\u001b[1;32m    304\u001b[0m             messages[m],\n\u001b[1;32m    305\u001b[0m             versions[m],\n\u001b[1;32m    306\u001b[0m             version_warnings[m],\n\u001b[1;32m    307\u001b[0m             stacklevel\u001b[39m=\u001b[39m\u001b[39m3\u001b[39m,\n\u001b[1;32m    308\u001b[0m         )\n\u001b[0;32m--> 309\u001b[0m \u001b[39mreturn\u001b[39;00m fn(\u001b[39m*\u001b[39;49margs, \u001b[39m*\u001b[39;49m\u001b[39m*\u001b[39;49mkwargs)\n",
      "File \u001b[0;32m~/opt/miniconda3/envs/lamin-dev/lib/python3.9/site-packages/sqlalchemy/engine/create.py:520\u001b[0m, in \u001b[0;36mcreate_engine\u001b[0;34m(url, **kwargs)\u001b[0m\n\u001b[1;32m    517\u001b[0m \u001b[39m# create url.URL object\u001b[39;00m\n\u001b[1;32m    518\u001b[0m u \u001b[39m=\u001b[39m _url\u001b[39m.\u001b[39mmake_url(url)\n\u001b[0;32m--> 520\u001b[0m u, plugins, kwargs \u001b[39m=\u001b[39m u\u001b[39m.\u001b[39;49m_instantiate_plugins(kwargs)\n\u001b[1;32m    522\u001b[0m entrypoint \u001b[39m=\u001b[39m u\u001b[39m.\u001b[39m_get_entrypoint()\n\u001b[1;32m    523\u001b[0m dialect_cls \u001b[39m=\u001b[39m entrypoint\u001b[39m.\u001b[39mget_dialect_cls(u)\n",
      "\u001b[0;31mAttributeError\u001b[0m: 'NoneType' object has no attribute '_instantiate_plugins'"
     ]
    }
   ],
   "source": [
    "model_definitions_match_ddl()"
   ]
  }
 ],
 "metadata": {
  "kernelspec": {
   "display_name": "lamin-dev",
   "language": "python",
   "name": "lamin-dev"
  },
  "language_info": {
   "codemirror_mode": {
    "name": "ipython",
    "version": 3
   },
   "file_extension": ".py",
   "mimetype": "text/x-python",
   "name": "python",
   "nbconvert_exporter": "python",
   "pygments_lexer": "ipython3",
   "version": "3.9.12"
  },
  "vscode": {
   "interpreter": {
    "hash": "2841734f87827db3a7b3181a6051fe720e9968e703956c2bd6988b5a29362801"
   }
  }
 },
 "nbformat": 4,
 "nbformat_minor": 4
}
