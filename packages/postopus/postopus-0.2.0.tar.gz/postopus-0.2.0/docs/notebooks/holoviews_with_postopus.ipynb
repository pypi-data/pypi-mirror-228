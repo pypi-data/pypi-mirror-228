{
 "cells": [
  {
   "cell_type": "markdown",
   "id": "4889f5a3-5b44-44e8-a7b1-7a93a09ef9a4",
   "metadata": {
    "tags": []
   },
   "source": [
    "# Holoviews usage"
   ]
  },
  {
   "cell_type": "markdown",
   "id": "61c4d339-7e96-4f85-b095-ab712fcbd5c3",
   "metadata": {},
   "source": [
    "Good resource: [https://holoviews.org/getting_started/Gridded_Datasets.html](https://holoviews.org/getting_started/Gridded_Datasets.html)"
   ]
  },
  {
   "cell_type": "markdown",
   "id": "4617169b",
   "metadata": {},
   "source": [
    "Doing n-dimensional plots with traditional plotting libraries can be tedious. `Holoviews` is a library designed for creating multidimensional (especially useful for > 2) plots easily. It is very well suited if you want to explore your data interactively. As we will see, converting `xarray` objects (the most common type of output in postopus) to `holoviews` objects is trivial. The customization level of a `holoviews` plot is very high, because it supports multiple backends, here we will cover `matplotlib` and `bokeh` (the default backend)."
   ]
  },
  {
   "cell_type": "code",
   "execution_count": null,
   "id": "8dcb4657-dc28-41c7-995e-10a47af1b5b2",
   "metadata": {
    "tags": []
   },
   "outputs": [],
   "source": [
    "import numpy as np\n",
    "from matplotlib import pyplot as plt\n",
    "from postopus.octopus_run import Run\n",
    "from pathlib import Path\n",
    "%config InlineBackend.figure_formats = ['svg']"
   ]
  },
  {
   "cell_type": "markdown",
   "id": "8ca9161d",
   "metadata": {},
   "source": [
    "input file is already defined in the folder (s. GitLab repo), otherwise we recommend defining it in the notebook"
   ]
  },
  {
   "cell_type": "code",
   "execution_count": null,
   "id": "93507e64",
   "metadata": {},
   "outputs": [],
   "source": [
    "cd ../../tests/data/benzene/  "
   ]
  },
  {
   "cell_type": "markdown",
   "id": "9afa1b04",
   "metadata": {},
   "source": [
    "Assuming you have octopus in your PATH:"
   ]
  },
  {
   "cell_type": "code",
   "execution_count": null,
   "id": "056d2f97",
   "metadata": {},
   "outputs": [],
   "source": [
    "!octopus > out_gs.log 2>&1"
   ]
  },
  {
   "cell_type": "code",
   "execution_count": null,
   "id": "1746aa83-190b-4a43-8d4d-40846d503aaa",
   "metadata": {},
   "outputs": [],
   "source": [
    "run = Run(\".\")"
   ]
  },
  {
   "cell_type": "code",
   "execution_count": null,
   "id": "5c1b150c-62d9-4448-99ff-3b6c1b04b4ce",
   "metadata": {},
   "outputs": [],
   "source": [
    "xa = run.default.scf.density.get_converged(source=\"cube\")  # postopus XArray\n",
    "xa"
   ]
  },
  {
   "cell_type": "markdown",
   "id": "51247e61-8a35-4ed4-ad1f-275523ea0ce0",
   "metadata": {},
   "source": [
    "## Importing holoviews"
   ]
  },
  {
   "cell_type": "code",
   "execution_count": null,
   "id": "05e94d58-1195-4318-90b8-ab2e0e3769e8",
   "metadata": {},
   "outputs": [],
   "source": [
    "import holoviews as hv\n",
    "from holoviews import opts  # For setting defaults\n",
    "hv.extension('bokeh', 'matplotlib')  # Allow for interactive plots"
   ]
  },
  {
   "cell_type": "markdown",
   "id": "0c4193a2",
   "metadata": {},
   "source": [
    "In the following, we are going to convert an `xarray` to a `holoviews Dataset` and then to a `holoviews Image`. Actually, `holoviews Images` are used for 2D plots. Since we have 3D data, it will be converted to a `Holomap` of `Images`. (If we would want to plot for example 1D data, instead of `holoviews Images`, we would use `holoviews Curve`s. The code would be analogous.) This image allows you to slide across time and space and visualize the resulting structure. (If you want to move step-by-step, just select a dimension and use the left and right arrows to navigate). We can use the `kdims` argument to specify which coordinates will serve as the visible axes on the plots (in this example we will choose `x` and `y`). The ones that are left will be controlled by a slider (in this example `t` and `step` will get a slider and a dropdown). When building the image, the default behavior of `holoviews` is to preload the whole data at once with javascript. The loading of the image can be very slow, especially if the amount of data is high. Don't worry, we'll learn how to make it faster!"
   ]
  },
  {
   "cell_type": "markdown",
   "id": "7668fb6c-f243-4679-bd4a-199a8f73ea43",
   "metadata": {},
   "source": [
    "## Generating a holoviews Dataset"
   ]
  },
  {
   "cell_type": "code",
   "execution_count": null,
   "id": "278e7817-30aa-4081-8625-8c0712882603",
   "metadata": {},
   "outputs": [],
   "source": [
    "hv_ds = hv.Dataset(xa)"
   ]
  },
  {
   "cell_type": "markdown",
   "id": "b35eb12c-b643-4f4e-b6db-3b22b92aa037",
   "metadata": {},
   "source": [
    "## Generating a holoviews Image"
   ]
  },
  {
   "cell_type": "code",
   "execution_count": null,
   "id": "b045ed07-e226-4aa3-99d8-62210152c0f6",
   "metadata": {},
   "outputs": [],
   "source": [
    "hv_im = hv_ds.to(hv.Image, kdims=[\"x\", \"y\"])"
   ]
  },
  {
   "cell_type": "markdown",
   "id": "2a997929",
   "metadata": {},
   "source": [
    "The following two plots will be slowish. "
   ]
  },
  {
   "cell_type": "code",
   "execution_count": null,
   "id": "45e9274f-23d5-4f21-9b5f-e8f662e27212",
   "metadata": {
    "tags": []
   },
   "outputs": [],
   "source": [
    "hv_im"
   ]
  },
  {
   "cell_type": "code",
   "execution_count": null,
   "id": "6b353279-5732-4db7-87ec-c94731eebdc7",
   "metadata": {},
   "outputs": [],
   "source": [
    "type(hv_im)"
   ]
  },
  {
   "cell_type": "code",
   "execution_count": null,
   "id": "8e5ed6e4-24b9-4e65-9497-8ac79fa02633",
   "metadata": {},
   "outputs": [],
   "source": [
    "hv_im.data # one can see here that each of the samples within the Holomap is an Image"
   ]
  },
  {
   "cell_type": "markdown",
   "id": "fb3eceb6-c582-4a14-95bb-7c58b00a68df",
   "metadata": {},
   "source": [
    "## Customizing plot parameters  with `opts`"
   ]
  },
  {
   "cell_type": "code",
   "execution_count": null,
   "id": "2a78dc98-b1c9-438d-93b6-986c0ea4c7f9",
   "metadata": {
    "tags": []
   },
   "outputs": [],
   "source": [
    "# Sets defaults for all the interactive images in this notebook\n",
    "# Warning: Currently, there is no way to reset the default settings:\n",
    "# https://stackoverflow.com/questions/68748393/how-do-i-clear-all-custom-opts-that-ive-set-for-holoviews.\n",
    "# The only method that works is restarting the kernel, so think about setting anything to default.\n",
    "opts.defaults(\n",
    "    opts.Image(cmap='viridis', width=400, height=400), \n",
    ")\n",
    "# <hv object>.opts.clear() / <hv object>.opts(clone=False)  to rollback to default settings if desired,\n",
    "# from https://holoviews.org/user_guide/Applying_Customizations.html."
   ]
  },
  {
   "cell_type": "code",
   "execution_count": null,
   "id": "3151af14-afac-41d6-a98a-2815d3eddb3d",
   "metadata": {},
   "outputs": [],
   "source": [
    "hv_im.opts(opts.Image(title=\"title\"))  # Sets specific opts for a single plot"
   ]
  },
  {
   "cell_type": "code",
   "execution_count": null,
   "id": "fa04dd99-ff95-4641-bd1f-def47c7cb033",
   "metadata": {},
   "outputs": [],
   "source": [
    "# hv.help(hv.Image)  # Lists all the tunable parameters, for the active backend\n",
    "# hv.help(hv_im)  # Lists the actual configuration of  a specific object"
   ]
  },
  {
   "cell_type": "markdown",
   "id": "736afbba",
   "metadata": {},
   "source": [
    "## Time dependent plots"
   ]
  },
  {
   "cell_type": "markdown",
   "id": "fd909bef-9304-45de-9bda-8b08cde097d8",
   "metadata": {},
   "source": [
    "### Methane example"
   ]
  },
  {
   "cell_type": "markdown",
   "id": "60804240-923e-466c-8b51-25abdf7aa2c8",
   "metadata": {},
   "source": [
    "To fasten up the loading process we can make use of the parameter `dynamic=True`. When this parameter is set as `True`, the frames will be loaded one by one, on-demand. (This means that in the background the `Dataset` will be converted into a `DynamicMap` instead of a `Holomap`). Note: if the style of the plotting is not the one that you expected, rerun the cell. The dynamic plots will always take the last used plotting settings, independently of what was declared in the cell. Second note: The dynamic plots cannot be rendered in HTML. If you are viewing this from your webbrowser, you will just see GIFs that should emulate the real plot. If you happen to be in an active notebook session, you can play with them interactively!"
   ]
  },
  {
   "cell_type": "code",
   "execution_count": null,
   "id": "a01b76f7",
   "metadata": {},
   "outputs": [],
   "source": [
    "cd ../methane"
   ]
  },
  {
   "cell_type": "code",
   "execution_count": null,
   "id": "ff2681e9",
   "metadata": {},
   "outputs": [],
   "source": [
    "!octopus > out_gs.log 2>&1"
   ]
  },
  {
   "cell_type": "code",
   "execution_count": null,
   "id": "701431b6-8139-42f4-a634-12f0cf2fea1b",
   "metadata": {},
   "outputs": [],
   "source": [
    "run = Run(\".\")"
   ]
  },
  {
   "cell_type": "code",
   "execution_count": null,
   "id": "64a62113-a99a-4df9-ab16-ce297961504f",
   "metadata": {},
   "outputs": [],
   "source": [
    "xat = run.default.scf.density.get_all(source=\"vtk\")  # XArray Time-dependent"
   ]
  },
  {
   "cell_type": "code",
   "execution_count": null,
   "id": "8a20e4d7-df59-41e9-a713-8eb1ed38f20d",
   "metadata": {},
   "outputs": [],
   "source": [
    "hv_dst = hv.Dataset(xat)  # convert to holoviews Dataset\n",
    "hv_imt = hv_dst.to(hv.Image)  # convert to holoviews Image\n",
    "hv.output(max_frames=10000)  # sets the max number of frames that we can have in a slider-plot"
   ]
  },
  {
   "cell_type": "code",
   "execution_count": null,
   "id": "8840b15c-7ed0-47c4-9d17-a871be5f2351",
   "metadata": {},
   "outputs": [],
   "source": [
    "# hv_imt # Would be very slow! Minutes long!"
   ]
  },
  {
   "cell_type": "code",
   "execution_count": null,
   "id": "5ad8d6fd-47e5-413a-b24c-3e7a754d49ec",
   "metadata": {},
   "outputs": [],
   "source": [
    "hv_dst = hv.Dataset(xat)\n",
    "hv_imt = hv_dst.to(hv.Image, kdims=[\"x\", \"y\"], dynamic=True)\n",
    "hv.output(max_frames=10000)"
   ]
  },
  {
   "cell_type": "code",
   "execution_count": null,
   "id": "357a0c1e-d62a-4ee2-86a5-75308d8e4beb",
   "metadata": {},
   "outputs": [],
   "source": [
    "# Note for web users: You should have an active notebook session to interact with the plot\n",
    "hv_imt  # fast!"
   ]
  },
  {
   "cell_type": "code",
   "execution_count": null,
   "id": "72b8eefe-4eb3-43a4-86d5-aeab0661c5ec",
   "metadata": {},
   "outputs": [],
   "source": [
    "type(hv_imt)"
   ]
  },
  {
   "cell_type": "code",
   "execution_count": null,
   "id": "7e00a093-8f88-4acc-ae4d-06c0aebabd19",
   "metadata": {},
   "outputs": [],
   "source": [
    "hv_imt.data  #  the number of images saved in cache will update if you scroll the plot. The default cache_size is 500"
   ]
  },
  {
   "cell_type": "code",
   "execution_count": null,
   "id": "946b40ab-97a8-4047-aaa4-8a72a9a1ed47",
   "metadata": {},
   "outputs": [],
   "source": [
    "hv_imt.cache_size"
   ]
  },
  {
   "cell_type": "markdown",
   "id": "d3727abb-93f5-4108-a62c-91a8d0c64fac",
   "metadata": {
    "tags": []
   },
   "source": [
    "#### Histogram of the data"
   ]
  },
  {
   "cell_type": "code",
   "execution_count": null,
   "id": "d18f3596-f749-4355-b404-05cb9454279e",
   "metadata": {},
   "outputs": [],
   "source": [
    "# Note for web users: You should have an active notebook session to interact with the plot\n",
    "hv_imt.hist(num_bins=100, log=True).opts(\n",
    "    opts.Image(colorbar=True, # we set the opts for each hv object independently\n",
    "              clabel=f\"{xat.name} ({xat.units})\"), # holoviews doesn't support the labeling of the cmap out of the box  \n",
    "    opts.Histogram(xlim=(0, 0.5), ylim=(0, 50))\n",
    "    )  # use base 10 logarithmic samples for the bin edges (width)"
   ]
  },
  {
   "cell_type": "code",
   "execution_count": null,
   "id": "09fbefed-c554-48e9-8d91-1a368af4a1b2",
   "metadata": {},
   "outputs": [],
   "source": [
    "# Note for web users: You should have an active notebook session to interact with the plot\n",
    "hv_imt.hist(num_bins=100).opts(\n",
    "    opts.Image(colorbar=True,\n",
    "              clabel=f\"{xat.name} ({xat.units})\"),\n",
    "    opts.Histogram(xlim=(0, 0.5), ylim=(0, 50))\n",
    "    )  # comparison without log"
   ]
  },
  {
   "cell_type": "markdown",
   "id": "15d82eab-8fe4-4889-8290-b883655315e3",
   "metadata": {
    "tags": []
   },
   "source": [
    "#### Swapping kdims"
   ]
  },
  {
   "cell_type": "code",
   "execution_count": null,
   "id": "391af0c3-0303-4689-a42b-52aa8c17c5d0",
   "metadata": {},
   "outputs": [],
   "source": [
    "hv_imt_step_z = hv_dst.to(hv.Image, kdims=['step', 'z'], dynamic=True)"
   ]
  },
  {
   "cell_type": "code",
   "execution_count": null,
   "id": "6fcd9e88-6b22-4105-91a9-3760396f0a43",
   "metadata": {},
   "outputs": [],
   "source": [
    "# Note for web users: You should have an active notebook session to interact with the plot\n",
    "hv_imt_step_z"
   ]
  },
  {
   "cell_type": "markdown",
   "id": "84ed933f",
   "metadata": {},
   "source": [
    "### Interference z=0 (slice)"
   ]
  },
  {
   "cell_type": "markdown",
   "id": "58aa1680-7357-43a8-9e52-50f1778db892",
   "metadata": {},
   "source": [
    "http://holoviews.org/user_guide/Styling_Plots.html\n",
    "https://holoviews.org/user_guide/Colormaps.html\n",
    "might come handy for customizing plots"
   ]
  },
  {
   "cell_type": "code",
   "execution_count": null,
   "id": "103834de",
   "metadata": {},
   "outputs": [],
   "source": [
    "cd ../interference/"
   ]
  },
  {
   "cell_type": "code",
   "execution_count": null,
   "id": "9930f2fa",
   "metadata": {},
   "outputs": [],
   "source": [
    "!octopus > out_td.log 2>&1"
   ]
  },
  {
   "cell_type": "code",
   "execution_count": null,
   "id": "3f6f8872",
   "metadata": {},
   "outputs": [],
   "source": [
    "run = Run(\".\")"
   ]
  },
  {
   "cell_type": "code",
   "execution_count": null,
   "id": "34f1663e",
   "metadata": {},
   "outputs": [],
   "source": [
    "xa = run.Maxwell.td.b_field.x.get_all(source=\"z=0\")"
   ]
  },
  {
   "cell_type": "code",
   "execution_count": null,
   "id": "247f65ab",
   "metadata": {},
   "outputs": [],
   "source": [
    "hv_dst = hv.Dataset(xa)\n",
    "hv_imt = hv_dst.to(hv.Image, ['x', 'y'])  # needed for generating output files\n",
    "hv_imt_dynamic = hv_dst.to(hv.Image, ['x', 'y'], dynamic=True)\n",
    "hv.output(max_frames=3000)"
   ]
  },
  {
   "cell_type": "markdown",
   "id": "cd77909b-b014-4fb8-b9f4-e51c8b6e9c69",
   "metadata": {},
   "source": [
    "#### Custom plotting options"
   ]
  },
  {
   "cell_type": "code",
   "execution_count": null,
   "id": "c749e0ef-0c31-48a5-83b1-1fc233236add",
   "metadata": {},
   "outputs": [],
   "source": [
    "# cmap: Which colors should be used\n",
    "# If cmap is not specified, and dynamic=True, it will change while we scroll. If dynamic=False, it will be fix.\n",
    "# color_levels: in which ranges should these colors be used\n",
    "# clim: what is the absolute scale of the colorbar\n",
    "# Note for web users: You should have an active notebook session to interact with the plot\n",
    "hv_imt_dynamic.opts(\n",
    "    colorbar=True, width=500, height=400,\n",
    "    # cmap=['#0000ff', '#89cff0', '#f75e25', '#ff0000'],\n",
    "    # color_levels=[-10**-3, -10**-4, 0, 10**-4, 10**-3],\n",
    "    cmap='seismic',\n",
    "    clim=(-10**-3, 10**-3),\n",
    "    clabel=f\"{xa.name} ({xa.units})\"\n",
    ")"
   ]
  },
  {
   "cell_type": "markdown",
   "id": "a6806834-4ac7-43ec-94fc-36379cc8570a",
   "metadata": {
    "tags": []
   },
   "source": [
    "The middle of the colormap will be in the middle of the min and max values of clim, so e.g. if you want the color map to be symmetric around 0, you should `climmin == -climmax`."
   ]
  },
  {
   "cell_type": "markdown",
   "id": "526fd8dc-fc22-4156-9d97-e68b3f70e012",
   "metadata": {
    "tags": []
   },
   "source": [
    "## Saving gifs, htmls, images and videos of plots"
   ]
  },
  {
   "cell_type": "markdown",
   "id": "2123a046-79c5-444d-9042-78afab72e3ed",
   "metadata": {},
   "source": [
    "### Bokeh for (gifs and) htmls"
   ]
  },
  {
   "cell_type": "markdown",
   "id": "e53c4427-d932-4635-9353-5739196c4b62",
   "metadata": {},
   "source": [
    "The recommended output format for interactive plots is `html`. If needed, one can also generate gifs and mp4s with holoviews."
   ]
  },
  {
   "cell_type": "markdown",
   "id": "ceb77552-4761-4673-ab8e-75f23e3a85ea",
   "metadata": {},
   "source": [
    "One needs `sudo apt install geckodriver` (or `conda install -c conda-forge geckodriver`) for generating the `bokeh gif`, although one can generate `matplotlib gif`s without it.  \n",
    "One also needs `sudo apt install ffmpeg` (or `conda install -c conda-forge ffmpeg`)  for generating `matplotlib mp4`s. It is also possible to generate them in RAVEN (s. Advanced section)"
   ]
  },
  {
   "cell_type": "markdown",
   "id": "60f9835e-0b3a-4300-b9e9-032a9cbd9eca",
   "metadata": {},
   "source": [
    "The gif and the mp4 generations were commented out because the CI would need geckodriver and ffmpeg. If you have them, just uncomment the code bits!\n",
    "\n",
    "Note that **we are using hv_imt and NOT hv_imt_dynamic!**"
   ]
  },
  {
   "cell_type": "code",
   "execution_count": null,
   "id": "49b20fe1-77f1-409a-8b2d-648494046045",
   "metadata": {},
   "outputs": [],
   "source": [
    "hv.save(\n",
    "    hv_imt.opts(\n",
    "        colorbar=True, width=500, height=400, cmap='seismic', clim=(-10**-3, 10**-3)  # hv.Image args\n",
    "    ),\n",
    "    fmt=\"html\", backend=\"bokeh\", filename=\"test2\"  # hv.save args\n",
    ")\n",
    "\n",
    "# uncomment if you have `geckodriver`\n",
    "\"\"\"\n",
    "hv.save(\n",
    "    hv_imt.opts(\n",
    "        colorbar=True, width=500, height=400, cmap='seismic', clim=(-10**-3, 10**-3)\n",
    "    ),\n",
    "    fmt=\"gif\", backend=\"bokeh\", filename=\"test3\", fps=1\n",
    ")\n",
    "\"\"\"\n",
    "\n",
    "\n",
    "hv.save(\n",
    "    hv_imt.opts(\n",
    "        colorbar=True, width=500, height=400, cmap='seismic', clim=(-10**-3, 10**-3)\n",
    "    ),\n",
    "    fmt=\"scrubber\", backend=\"bokeh\", filename=\"test20\", fps=1\n",
    ")"
   ]
  },
  {
   "cell_type": "markdown",
   "id": "87fdf6e1",
   "metadata": {},
   "source": [
    "Look into the `notebooks` folder, you should see new files in it!"
   ]
  },
  {
   "cell_type": "markdown",
   "id": "8518dd6f-4037-4b1e-b354-90a3707d8415",
   "metadata": {
    "tags": []
   },
   "source": [
    "### Matplotlib for gifs and mp4"
   ]
  },
  {
   "cell_type": "markdown",
   "id": "2428c215-0a31-4f48-b5b3-cae32c29df64",
   "metadata": {},
   "source": [
    "Bokeh is the default backend when working with holowiews. Although, bokeh doesn't currently support the output of mp4s (Also: the gif generation in bokeh can be slower than with matplotlib). So that the `holoviews` object should be ported to a matploib backend. This shouldn't be complicated. Probably, the only thing one needs to change is`fig_size` instead of `height` and `width`. Recall: `hv.help(hv.Image)` lists all the tunable parameters, for the active backend."
   ]
  },
  {
   "cell_type": "code",
   "execution_count": null,
   "id": "ccc61402-0386-4c21-bcc5-973407f84d88",
   "metadata": {},
   "outputs": [],
   "source": [
    "hv.extension('matplotlib')"
   ]
  },
  {
   "cell_type": "markdown",
   "id": "33583ff0-0ad0-4a06-bda8-21ebeb419a3e",
   "metadata": {},
   "source": [
    "For Linux users: VLC player may needed for opening the mp4."
   ]
  },
  {
   "cell_type": "code",
   "execution_count": null,
   "id": "1b727a1c-e470-4be7-8cad-9eec96d543b6",
   "metadata": {},
   "outputs": [],
   "source": [
    "# uncomment if you have `ffmpeg`\n",
    "\"\"\"\n",
    "hv.save(\n",
    "    hv_imt.opts(colorbar=True, fig_inches=10, cmap='seismic', clim=(-10**-3, 10**-3)\n",
    "               ),\n",
    "    fmt=\"mp4\", backend=\"matplotlib\", filename=\"test4\", fps=1) \n",
    "\"\"\""
   ]
  },
  {
   "cell_type": "code",
   "execution_count": null,
   "id": "e8e5eca3-d3a6-4218-8408-087076521540",
   "metadata": {},
   "outputs": [],
   "source": [
    "hv.save(\n",
    "    hv_imt.opts(colorbar=True, cmap='seismic', fig_inches=10, clim=(-10**-3, 10**-3)),\n",
    "    fmt=\"gif\", backend=\"matplotlib\", filename=\"test5\", fps=1\n",
    ")"
   ]
  },
  {
   "cell_type": "code",
   "execution_count": null,
   "id": "3c2c79a0-2d9f-4710-b040-4ff9cdd35346",
   "metadata": {},
   "outputs": [],
   "source": [
    "hv.extension('bokeh')  # go back to bokeh as default"
   ]
  },
  {
   "cell_type": "markdown",
   "id": "c7c251bb-e15f-4e49-8565-4f7b1fc251f7",
   "metadata": {},
   "source": [
    "### Export individual images"
   ]
  },
  {
   "cell_type": "markdown",
   "id": "d9631472-0688-4607-a61b-2f556fa65f9e",
   "metadata": {},
   "source": [
    "For exporting individual png's the easiest way, is while interacting with a dynamic plot: go to the frame that you are interested in, and click on the save button in the right-hand-bokeh-menu. That's it:"
   ]
  },
  {
   "cell_type": "code",
   "execution_count": null,
   "id": "067426b8-cc02-45bf-918b-f9aa0b85d42b",
   "metadata": {},
   "outputs": [],
   "source": [
    "# Note for web users: You should have an active notebook session to interact with the plot\n",
    "hv_imt_dynamic"
   ]
  },
  {
   "cell_type": "markdown",
   "id": "f1d52dc4-fd48-48f4-a2c4-605b2ea8f1f3",
   "metadata": {},
   "source": [
    "In case you need an `svg`, you will need to use matplotlib. Just slice the original xarray at the point where you are interested in:"
   ]
  },
  {
   "cell_type": "code",
   "execution_count": null,
   "id": "c1c2c7bf-4557-4d1c-8461-af893f8e55b5",
   "metadata": {},
   "outputs": [],
   "source": [
    "xa00 = xa.sel(t=0.0)  # from the plot above look at which step interests you most, let's say t=0.0.\n",
    "hv_dst00 = hv.Dataset(xa00)\n",
    "hv_imt00 = hv_dst00.to(hv.Image, ['x', 'y'])"
   ]
  },
  {
   "cell_type": "code",
   "execution_count": null,
   "id": "0fd4e46d-6058-4ec2-bd86-0179afdb93a5",
   "metadata": {},
   "outputs": [],
   "source": [
    "hv.extension('matplotlib')"
   ]
  },
  {
   "cell_type": "markdown",
   "id": "b5703d4f-b749-47fc-8d48-fc9e32466664",
   "metadata": {},
   "source": [
    "For some reason, the following cell causes trouble in the CI pipeline, although when executing it in a notebook there is no problem (problem started end of august). We are going to comment it and maybe address this in the future:"
   ]
  },
  {
   "cell_type": "code",
   "execution_count": null,
   "id": "1d903829-50a0-49bc-aeab-ea95d012aadb",
   "metadata": {},
   "outputs": [],
   "source": [
    "\"\"\"\n",
    "hv.save(\n",
    "    hv_imt00.opts(\n",
    "        colorbar=True, title=\"step300\", fig_size=500, cmap='seismic', clim=(-10**-3, 10**-3), xticks=\"auto\", yticks=\"auto\",\n",
    "    ),\n",
    "    fmt=\"svg\", backend=\"matplotlib\", filename=\"test6\", fps=1\n",
    ")\n",
    "\"\"\""
   ]
  },
  {
   "cell_type": "code",
   "execution_count": null,
   "id": "f0b38072",
   "metadata": {},
   "outputs": [],
   "source": [
    "hv.help(hv_imt00.opts())"
   ]
  },
  {
   "cell_type": "code",
   "execution_count": null,
   "id": "0ba959e9-d131-4c1b-9c21-3f563bab5126",
   "metadata": {},
   "outputs": [],
   "source": [
    "hv.extension('bokeh', 'matplotlib')  # go back to bokeh as default"
   ]
  },
  {
   "cell_type": "markdown",
   "id": "4a9635aa-aa04-4436-ae61-009cf999c725",
   "metadata": {},
   "source": [
    "## Vectorfields"
   ]
  },
  {
   "cell_type": "markdown",
   "id": "09730fc3-fd02-4ba7-b1cd-bc82919b4a03",
   "metadata": {},
   "source": [
    "### Colormap plot"
   ]
  },
  {
   "cell_type": "code",
   "execution_count": null,
   "id": "16b4f51f-71d6-4087-b780-aeb86e74b89d",
   "metadata": {},
   "outputs": [],
   "source": [
    "xav = run.Maxwell.td.b_field.get_all(source=\"z=0\")  # XArray Vector"
   ]
  },
  {
   "cell_type": "code",
   "execution_count": null,
   "id": "e780045c-ce82-4a58-b3db-2e49d97274e8",
   "metadata": {},
   "outputs": [],
   "source": [
    "hv_dst = hv.Dataset(xav)\n",
    "hv_imt = hv_dst.to(hv.Image, ['x', 'y'])  # needed for generating outputs\n",
    "hv_imt_dynamic = hv_dst.to(hv.Image, ['x', 'y'], dynamic=True)\n",
    "hv.output(max_frames=3000)"
   ]
  },
  {
   "cell_type": "code",
   "execution_count": null,
   "id": "6639060d-47f9-498b-8e12-ee6ee5cca390",
   "metadata": {},
   "outputs": [],
   "source": [
    "# Note for web users: You should have an active notebook session to interact with the plot\n",
    "hv_imt_dynamic.opts(colorbar=True,\n",
    "                    width=500,\n",
    "                    height=400,\n",
    "                    cmap='seismic',\n",
    "                    clabel=f\"{xav.name} ({xav.units})\",\n",
    "                    clim=(-10**-3, 10**-3))"
   ]
  },
  {
   "cell_type": "markdown",
   "id": "f0423692-c25e-4b14-b222-7f49ae4c9024",
   "metadata": {},
   "source": [
    "### Arrow plot"
   ]
  },
  {
   "cell_type": "code",
   "execution_count": null,
   "id": "8448c4b8-1778-488a-8155-2eec670658bf",
   "metadata": {},
   "outputs": [],
   "source": [
    "import numpy as np\n",
    "import xarray as xr"
   ]
  },
  {
   "cell_type": "code",
   "execution_count": null,
   "id": "0150b999-5654-43ca-a5bc-00558d630ebd",
   "metadata": {},
   "outputs": [],
   "source": [
    "ds = xr.Dataset(\n",
    "            {\n",
    "                \"Angle\": np.arctan2(\n",
    "                    xav.sel(x=slice(-10, 10), y=slice(-10, 10), component=\"y\"),\n",
    "                    xav.sel(x=slice(-10, 10), y=slice(-10, 10), component=\"x\"),\n",
    "                ),\n",
    "                \"Magnitude\": np.sqrt(\n",
    "                    xav.sel(x=slice(-10, 10), y=slice(-10, 10),component=\"x\") ** 2\n",
    "                    + xav.sel(x=slice(-10, 10), y=slice(-10, 10), component=\"y\") ** 2\n",
    "                ),\n",
    "            }\n",
    "        ) # polar coordinates required for plotting arrows"
   ]
  },
  {
   "cell_type": "code",
   "execution_count": null,
   "id": "5cae353a-793f-45d4-af59-afaaf1373c45",
   "metadata": {},
   "outputs": [],
   "source": [
    "ds"
   ]
  },
  {
   "cell_type": "code",
   "execution_count": null,
   "id": "078b9105-bcbe-4027-8454-059216f035b8",
   "metadata": {},
   "outputs": [],
   "source": [
    "def _vectorplot(val):\n",
    "    plot = hv.VectorField(\n",
    "                data=ds.sel(t=val, method=\"nearest\"),\n",
    "                kdims=[\"x\", \"y\"],\n",
    "                vdims=[\"Angle\", \"Magnitude\"],\n",
    "            )\n",
    "    for dim in plot.kdims: # keep the units\n",
    "        dim.unit = xav[f\"{dim}\"].units \n",
    "    return plot"
   ]
  },
  {
   "cell_type": "code",
   "execution_count": null,
   "id": "f33ef72e-25cf-4091-8f0b-e2b1e713f124",
   "metadata": {},
   "outputs": [],
   "source": [
    "# Note for web users: You should have an active notebook session to interact with the plot\n",
    "arrow_plot = hv.DynamicMap(_vectorplot, kdims=\"t\").redim.values(t=xav.t.values).opts(color=\"blue\", width=500, height=400) # Zoom-in for seeing the  arrows!\n",
    "arrow_plot.kdims[0].unit = xav.t.units\n",
    "arrow_plot"
   ]
  },
  {
   "cell_type": "markdown",
   "id": "7d865a12-80e8-41d0-97f5-76c1eef79809",
   "metadata": {},
   "source": [
    "## Advanced "
   ]
  },
  {
   "cell_type": "markdown",
   "id": "312d4229",
   "metadata": {},
   "source": [
    "### Advanced plotting"
   ]
  },
  {
   "cell_type": "markdown",
   "id": "4060c27e",
   "metadata": {},
   "source": [
    "If the holoviews default plotting does not offer enough customization to your needs, one has two possibilites:\n",
    "- Use the [holoviews hooks](https://holoviews.org/user_guide/Customizing_Plots.html#Plot-hooks). These hooks will offer the underlying `plot` object from the backend to you. In the case of matplotlib e.g. in the function that you hook to, you could use `fig = plot.handles[\"fig\"]` and `ax = plot.handles[\"axis\"]`. These `fig` and `axes` objects are the ones that you probably know from matplotlib already. You can customize them as you are used to within the function. An example for this can be found in the `case_study_all_final` example, which is referenced under `Application examples`. We recommend exploiting this possibily first, before going to the second one, for still being able of having interactive plots. \n",
    "- [Render](https://holoviews.org/user_guide/Plotting_with_Matplotlib.html) the holoviews object into a backend object, e.g. matplotlib, to directly use the classic matplotlib functionalities: `fig = hv.render(hv_object, backend=\"matplotlib\")`, where `ax = fig.axes`. An example for this can be found in the `case_study_all_in_one_exploration` example, which is referenced under `Application examples`."
   ]
  },
  {
   "cell_type": "markdown",
   "id": "7c557f0c-e5ae-45a7-81ee-d68a98611ec1",
   "metadata": {},
   "source": [
    "### Using conda-forge packages on RAVEN."
   ]
  },
  {
   "cell_type": "markdown",
   "id": "3acdd5af-8210-40ba-8260-1bf86fc6fc97",
   "metadata": {},
   "source": [
    "As said above, for generating `bokeh` `gif`s and `matplotlib` `mp4`s, one needs `geckodriver` and `ffmpeg`, respectively. The latter two are not `Python` packages. Therefore, one cannot install them via `pip`, so they are not installed by default along with `postopus`. Nonetheless, they can be installed via `conda-forge`. The problem is that the standard [MPCDF-RVS-Service](https://docs.mpcdf.mpg.de/doc/visualization/index.html#remote-visualization-and-jupyter-notebook-services) for visualizing notebooks doesn't allow to use custom `anaconda` environments. But there is a rather simple way to overcome this:\n",
    "1) Login to your raven-account via `ssh` in a terminal  \n",
    "2) create a conda yaml suited to your needs e.g.:\n",
    "```yaml\n",
    "name: holoviews-env\n",
    "channels:\n",
    "    - conda-forge\n",
    "    - defaults\n",
    "dependencies:\n",
    "    - python=3.9\n",
    "    - matplotlib\n",
    "    - numpy=1.21.5\n",
    "    - netCDF4\n",
    "    - pandas\n",
    "    - prettytable\n",
    "    - pyvista\n",
    "    - xarray\n",
    "    - psutil\n",
    "    - holoviews\n",
    "    - datashader\n",
    "    - selenium\n",
    "    - pytest\n",
    "    - Jinja2==3.0.1\n",
    "    - pip\n",
    "    - ipykernel\n",
    "    - geckodriver\n",
    "    - ffmpeg\n",
    "    - pip:\n",
    "       - ase @ git+https://gitlab.com/dremerb/ase.git@xsf_and_cube_merge\n",
    "       - postopus @ git+https://gitlab.com/octopus-code/postopus.git\n",
    "```\n",
    "3)  Create a conda environment with the requirements of the yaml: `conda env create -p /u/user_name/name_of_conda_environment --file=path_to_conf_yml.yml`  \n",
    "4) `conda deactivate` and `conda activate path_to_conda_env`  \n",
    "5) `conda install -c conda-forge jupyterlab`  \n",
    "6) `jupyter-lab`  \n",
    "7) After a few seconds, a new browser window will pop-up with a jupyter notebook hosted on raven that has all the packages that you need.  \n"
   ]
  },
  {
   "cell_type": "markdown",
   "id": "febb12cd-c1e1-4eef-a170-d3338d3a6294",
   "metadata": {
    "tags": []
   },
   "source": [
    "## Final notes"
   ]
  },
  {
   "cell_type": "markdown",
   "id": "ff2c8542-7086-4ab0-a319-3cdb9d565e72",
   "metadata": {},
   "source": [
    "This tutorial is intended to be an introduction to holoviews. We didn't cover everything here. For example, there is another notebook under `/dev` that handles reduction methods in order to plot very dense data. If you need something more sophisticated for large datasets we could think about exploring the dask functionalities, which are also supported by holoviews. Just contact us if you have any questions!"
   ]
  }
 ],
 "metadata": {
  "kernelspec": {
   "display_name": "Python 3",
   "language": "python",
   "name": "python3"
  },
  "language_info": {
   "codemirror_mode": {
    "name": "ipython",
    "version": 3
   },
   "file_extension": ".py",
   "mimetype": "text/x-python",
   "name": "python",
   "nbconvert_exporter": "python",
   "pygments_lexer": "ipython3",
   "version": "3.8.10"
  }
 },
 "nbformat": 4,
 "nbformat_minor": 5
}
