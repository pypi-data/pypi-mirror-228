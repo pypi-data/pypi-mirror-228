{
 "cells": [
  {
   "cell_type": "markdown",
   "id": "a53d955c",
   "metadata": {},
   "source": [
    "# Show that xarray selection (`.sel`) returns view of data"
   ]
  },
  {
   "cell_type": "code",
   "execution_count": null,
   "id": "7982927a",
   "metadata": {},
   "outputs": [],
   "source": [
    "import xarray as xa\n",
    "import numpy as np"
   ]
  },
  {
   "cell_type": "code",
   "execution_count": null,
   "id": "b579b418",
   "metadata": {},
   "outputs": [],
   "source": [
    "data = np.zeros((10, 10, 10))\n",
    "x = xa.DataArray(data=data, coords={'i': range(10), 'j': range(10), 'k': range(10)})\n",
    "x.coords"
   ]
  },
  {
   "cell_type": "code",
   "execution_count": null,
   "id": "2e5be3ef",
   "metadata": {},
   "outputs": [],
   "source": [
    "float(x[0, 0, 0])"
   ]
  },
  {
   "cell_type": "code",
   "execution_count": null,
   "id": "6a76a72c",
   "metadata": {},
   "outputs": [],
   "source": [
    "y = x.sel(j=0, k=0)"
   ]
  },
  {
   "cell_type": "code",
   "execution_count": null,
   "id": "be3ac634",
   "metadata": {},
   "outputs": [],
   "source": [
    "y.values"
   ]
  },
  {
   "cell_type": "code",
   "execution_count": null,
   "id": "90df0eb7",
   "metadata": {},
   "outputs": [],
   "source": [
    "y.values[0] = 42"
   ]
  },
  {
   "cell_type": "code",
   "execution_count": null,
   "id": "bb7f09ac",
   "metadata": {},
   "outputs": [],
   "source": [
    "y.values"
   ]
  },
  {
   "cell_type": "code",
   "execution_count": null,
   "id": "e19686ff",
   "metadata": {},
   "outputs": [],
   "source": [
    "float(x[0, 0, 0])"
   ]
  },
  {
   "cell_type": "code",
   "execution_count": null,
   "id": "7092778b",
   "metadata": {},
   "outputs": [],
   "source": []
  }
 ],
 "metadata": {
  "kernelspec": {
   "display_name": "Python 3 (ipykernel)",
   "language": "python",
   "name": "python3"
  },
  "language_info": {
   "codemirror_mode": {
    "name": "ipython",
    "version": 3
   },
   "file_extension": ".py",
   "mimetype": "text/x-python",
   "name": "python",
   "nbconvert_exporter": "python",
   "pygments_lexer": "ipython3",
   "version": "3.9.1"
  }
 },
 "nbformat": 4,
 "nbformat_minor": 5
}
