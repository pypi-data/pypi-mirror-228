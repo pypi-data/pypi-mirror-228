{
 "cells": [
  {
   "cell_type": "markdown",
   "id": "aabf986b",
   "metadata": {},
   "source": [
    "# Hans' scratchpad to develop visualisations\n",
    "\n",
    "- done the xarray slice plots (now in docs/notebooks/xarray-plots1.ipynb)\n",
    "- work started below on browsing through slices with holoviews (unfinished)"
   ]
  },
  {
   "cell_type": "code",
   "execution_count": null,
   "id": "755434c1",
   "metadata": {},
   "outputs": [],
   "source": [
    "%load_ext autoreload\n",
    "%autoreload 2\n",
    "import matplotlib.pyplot as plt\n",
    "import numpy as np\n",
    "#%config InlineBackend.figure_formats = ['svg']\n",
    "\n",
    "import holoviews as hv\n",
    "from holoviews import opts\n",
    "# hv.extension('bokeh', 'matplotlib')"
   ]
  },
  {
   "cell_type": "code",
   "execution_count": null,
   "id": "d00134bf",
   "metadata": {},
   "outputs": [],
   "source": [
    "import postopus\n",
    "\n",
    "from postopus.files.cube import CubeFile\n",
    "\n",
    "path = \"../tests/data/benzene/static/density.cube\"\n",
    "\n",
    "\n",
    "\n",
    "cf = CubeFile(path)"
   ]
  },
  {
   "cell_type": "code",
   "execution_count": null,
   "id": "e8aa29c1",
   "metadata": {},
   "outputs": [],
   "source": [
    "image = hv.Image(xa)"
   ]
  },
  {
   "cell_type": "code",
   "execution_count": null,
   "id": "b3ffdf97",
   "metadata": {},
   "outputs": [],
   "source": [
    "dataset3d = hv.Dataset((range(3), range(5), range(7), np.random.randn(7, 5, 3)),\n",
    "                       ['x', 'y', 'z'], 'Value')"
   ]
  },
  {
   "cell_type": "code",
   "execution_count": null,
   "id": "b303d342",
   "metadata": {},
   "outputs": [],
   "source": [
    "hv.Scatter3D(dataset3d)"
   ]
  },
  {
   "cell_type": "code",
   "execution_count": null,
   "id": "42742235",
   "metadata": {},
   "outputs": [],
   "source": [
    "dataset3d.select(x=1).to(hv.Image, ['y', 'z']) + hv.Scatter3D(dataset3d.select(x=1))"
   ]
  },
  {
   "cell_type": "code",
   "execution_count": null,
   "id": "4d203cf6",
   "metadata": {},
   "outputs": [],
   "source": [
    "xa.name = \"density\""
   ]
  },
  {
   "cell_type": "code",
   "execution_count": null,
   "id": "12d07a2d",
   "metadata": {},
   "outputs": [],
   "source": [
    "ds = hv.Dataset((xa.z.data, xa.y.data, xa.x.data, xa.values.data), ['z', 'y', 'x'], 'density')"
   ]
  },
  {
   "cell_type": "code",
   "execution_count": null,
   "id": "6d3421f1",
   "metadata": {},
   "outputs": [],
   "source": [
    "ds.select(z=0).to(hv.Image, ['x', 'y'])"
   ]
  },
  {
   "cell_type": "code",
   "execution_count": null,
   "id": "9b86aef2",
   "metadata": {},
   "outputs": [],
   "source": [
    "hv.Scatter3D(ds)"
   ]
  },
  {
   "cell_type": "code",
   "execution_count": null,
   "id": "fa5e8bb9",
   "metadata": {},
   "outputs": [],
   "source": [
    "dataset3d.select(x=1).data"
   ]
  },
  {
   "cell_type": "code",
   "execution_count": null,
   "id": "2335195e",
   "metadata": {},
   "outputs": [],
   "source": [
    "dataset3d = hv.Dataset((range(3), range(5), range(7), np.random.randn(7, 5, 3)),\n",
    "                       ['x', 'y', 'z'], 'Value')\n",
    "dataset3d\n"
   ]
  },
  {
   "cell_type": "code",
   "execution_count": null,
   "id": "14eec37a",
   "metadata": {},
   "outputs": [],
   "source": [
    "hv.Scatter3D(dataset3d)"
   ]
  }
 ],
 "metadata": {
  "kernelspec": {
   "display_name": "Python 3 (ipykernel)",
   "language": "python",
   "name": "python3"
  },
  "language_info": {
   "codemirror_mode": {
    "name": "ipython",
    "version": 3
   },
   "file_extension": ".py",
   "mimetype": "text/x-python",
   "name": "python",
   "nbconvert_exporter": "python",
   "pygments_lexer": "ipython3",
   "version": "3.9.6"
  }
 },
 "nbformat": 4,
 "nbformat_minor": 5
}
