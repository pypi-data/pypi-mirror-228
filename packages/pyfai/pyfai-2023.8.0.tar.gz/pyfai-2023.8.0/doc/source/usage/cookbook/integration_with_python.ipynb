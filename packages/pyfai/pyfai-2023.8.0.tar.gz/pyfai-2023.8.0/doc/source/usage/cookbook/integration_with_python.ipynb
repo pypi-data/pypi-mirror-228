{
 "cells": [
  {
   "cell_type": "markdown",
   "metadata": {},
   "source": [
    "# Integration with Python\n",
    "\n",
    "This cookbook explains you how to perform azimuthal integration using the Python interpreter.\n",
    "It is divided in two parts, the first part uses purely Python while the second uses some advanced features of the Jupyter notebook.\n",
    "\n",
    "We will re-use the same files as in the other tutorials.\n",
    "\n",
    "## Performing azimuthal integration with pyFAI of a bunch of images\n",
    "\n",
    "To be able to perform the azimuthal integration of some images, one needs:\n",
    "\n",
    "* The diffraction images themselves, in this example they are stored as EDF files\n",
    "* The geometry of the experimental setup as obtained from the calibration and stored as a PONI-file\n",
    "* other files like flat-field, dark current images or detector distortion file (spline-file).\n",
    "\n",
    "Image file: http://www.silx.org/pub/pyFAI/cookbook/calibration/Eiger4M_Al2O3_13.45keV.edf\n",
    "\n",
    "Geometry file: http://www.silx.org/pub/pyFAI/cookbook/calibration/alpha-Al2O3.poni\n",
    "\n",
    "The calibration has been performed in the previous cookbook.\n",
    "\n",
    "### Basic usage of pyFAI\n",
    "To perform azimuthal averaging, one can use pyFAI to load the geometry and FabIO to read the image:"
   ]
  },
  {
   "cell_type": "code",
   "execution_count": 1,
   "metadata": {},
   "outputs": [
    {
     "name": "stdout",
     "output_type": "stream",
     "text": [
      "image_file: /tmp/pyFAI_testdata_kieffer/Eiger4M_Al2O3_13.45keV.edf\n",
      "poni_file: /tmp/pyFAI_testdata_kieffer/alpha-Al2O3.poni\n"
     ]
    },
    {
     "data": {
      "text/plain": [
       "['calib-gui',\n",
       " 'Eiger4M_Al2O3_13.45keV.edf',\n",
       " 'pyFAI-calib_notebook.png',\n",
       " 'alpha-Al2O3.poni',\n",
       " 'index.rst',\n",
       " 'pyFAI-integrate.png',\n",
       " 'integration_with_the_gui.rst',\n",
       " 'F_K4320T_Cam43_30012013_distorsion.spline',\n",
       " 'calibration_with_jupyter.ipynb',\n",
       " '.ipynb_checkpoints',\n",
       " 'integration_with_python.ipynb',\n",
       " 'jupyter.poni',\n",
       " 'calib-cli',\n",
       " 'integration_with_scripts.ipynb']"
      ]
     },
     "execution_count": 1,
     "metadata": {},
     "output_type": "execute_result"
    }
   ],
   "source": [
    "# This cell is just to download the files to perform the analysis:\n",
    "import time\n",
    "import shutil, os\n",
    "from silx.resources import ExternalResources\n",
    "\n",
    "t0 = time.perf_counter()\n",
    "\n",
    "downloader = ExternalResources(\"pyFAI\", \"http://www.silx.org/pub/pyFAI/cookbook/calibration/\", \"PYFAI_DATA\")\n",
    "image_file = downloader.getfile(\"Eiger4M_Al2O3_13.45keV.edf\")\n",
    "poni_file = downloader.getfile(\"alpha-Al2O3.poni\")\n",
    "\n",
    "print(\"image_file:\", image_file)\n",
    "print(\"poni_file:\", poni_file)\n",
    "\n",
    "# Copy all files locally\n",
    "shutil.copy(poni_file, \".\")\n",
    "shutil.copy(image_file, \".\")\n",
    "# clean-up files from previous run:\n",
    "for result in ('integrated.edf', \"integrated.dat\", \"Eiger4M_Al2O3_13.45keV.dat\"):\n",
    "    if os.path.exists(result):\n",
    "        os.unlink(result)\n",
    "\n",
    "os.listdir()"
   ]
  },
  {
   "cell_type": "code",
   "execution_count": 2,
   "metadata": {},
   "outputs": [
    {
     "name": "stdout",
     "output_type": "stream",
     "text": [
      "pyFAI version: 2023.1.0-dev0\n",
      "Image: <fabio.edfimage.EdfImage object at 0x7f773c42bdf0>\n",
      "\n",
      "Integrator: \n",
      " Detector Eiger 4M\t PixelSize= 7.500e-05, 7.500e-05 m\n",
      "Wavelength= 9.218156e-11 m\n",
      "SampleDetDist= 1.625467e-01 m\tPONI= 9.636511e-02, 8.600623e-02 m\trot1=0.002605  rot2=0.000641  rot3=0.000000 rad\n",
      "DirectBeamDist= 162.547 mm\tCenter: x=1141.104, y=1286.257 pix\tTilt= 0.154° tiltPlanRotation= 166.178° 𝛌= 0.922Å\n"
     ]
    }
   ],
   "source": [
    "import pyFAI, fabio\n",
    "print(\"pyFAI version:\", pyFAI.version)\n",
    "img = fabio.open(\"Eiger4M_Al2O3_13.45keV.edf\")\n",
    "print(\"Image:\", img)\n",
    "\n",
    "ai = pyFAI.load(\"alpha-Al2O3.poni\")\n",
    "print(\"\\nIntegrator: \\n\", ai)"
   ]
  },
  {
   "cell_type": "markdown",
   "metadata": {},
   "source": [
    "### Azimuthal averaging using pyFAI\n",
    "\n",
    "\n",
    "One needs first to retrieve the image as a numpy array. This allows to use other libraries than FabIO for image reading, for example HDF5 files.\n",
    "\n",
    "This shows how to perform the azimuthal integration of one image over 1000 bins:"
   ]
  },
  {
   "cell_type": "code",
   "execution_count": 3,
   "metadata": {},
   "outputs": [
    {
     "name": "stdout",
     "output_type": "stream",
     "text": [
      "img_array: <class 'numpy.ndarray'> (2167, 2070) float32\n"
     ]
    }
   ],
   "source": [
    "img_array = img.data\n",
    "print(\"img_array:\", type(img_array), img_array.shape, img_array.dtype)\n",
    "mask = img_array>4e9\n",
    "\n",
    "res = ai.integrate1d_ng(img_array, \n",
    "                        1000, \n",
    "                        mask=mask,\n",
    "                        unit=\"2th_deg\", \n",
    "                        filename=\"integrated.dat\")"
   ]
  },
  {
   "cell_type": "markdown",
   "metadata": {},
   "source": [
    "*Note:* There are 2 mandatory parameters for this method: the 2D-numpy array with the image and the number of bins. In addition, we specified the name of the file where to save the data and the unit for performing the integration.\n",
    "\n",
    "There are many other options of `integrate1d`. The difference between the `legacy` and the `ng` flavor is mostly on the way error is propagated:"
   ]
  },
  {
   "cell_type": "code",
   "execution_count": 4,
   "metadata": {},
   "outputs": [
    {
     "name": "stdout",
     "output_type": "stream",
     "text": [
      "Help on method integrate1d_ng in module pyFAI.azimuthalIntegrator:\n",
      "\n",
      "integrate1d_ng(data, npt, filename=None, correctSolidAngle=True, variance=None, error_model=None, radial_range=None, azimuth_range=None, mask=None, dummy=None, delta_dummy=None, polarization_factor=None, dark=None, flat=None, method='csr', unit=q_nm^-1, safe=True, normalization_factor=1.0, metadata=None) method of pyFAI.azimuthalIntegrator.AzimuthalIntegrator instance\n",
      "    Calculate the azimuthal integration (1d) of a 2D image.\n",
      "    \n",
      "    Multi algorithm implementation (tries to be bullet proof), suitable for SAXS, WAXS, ... and much more\n",
      "    Takes extra care of normalization and performs proper variance propagation.\n",
      "    \n",
      "    :param ndarray data: 2D array from the Detector/CCD camera\n",
      "    :param int npt: number of points in the output pattern\n",
      "    :param str filename: output filename in 2/3 column ascii format\n",
      "    :param bool correctSolidAngle: correct for solid angle of each pixel if True\n",
      "    :param ndarray variance: array containing the variance of the data.\n",
      "    :param str error_model: When the variance is unknown, an error model can be given: \"poisson\" (variance = I), \"azimuthal\" (variance = (I-<I>)^2)\n",
      "    :param radial_range: The lower and upper range of the radial unit. If not provided, range is simply (min, max). Values outside the range are ignored.\n",
      "    :type radial_range: (float, float), optional\n",
      "    :param azimuth_range: The lower and upper range of the azimuthal angle in degree. If not provided, range is simply (min, max). Values outside the range are ignored.\n",
      "    :type azimuth_range: (float, float), optional\n",
      "    :param ndarray mask: array with  0 for valid pixels, all other are masked (static mask)\n",
      "    :param float dummy: value for dead/masked pixels (dynamic mask)\n",
      "    :param float delta_dummy: precision for dummy value\n",
      "    :param float polarization_factor: polarization factor between -1 (vertical) and +1 (horizontal).\n",
      "           0 for circular polarization or random,\n",
      "           None for no correction,\n",
      "           True for using the former correction\n",
      "    :param ndarray dark: dark noise image\n",
      "    :param ndarray flat: flat field image\n",
      "    :param IntegrationMethod method: IntegrationMethod instance or 3-tuple with (splitting, algorithm, implementation)\n",
      "    :param Unit unit: Output units, can be \"q_nm^-1\" (default), \"2th_deg\", \"r_mm\" for now.\n",
      "    :param bool safe: Perform some extra checks to ensure LUT/CSR is still valid. False is faster.\n",
      "    :param float normalization_factor: Value of a normalization monitor\n",
      "    :param metadata: JSON serializable object containing the metadata, usually a dictionary.\n",
      "    :return: Integrate1dResult namedtuple with (q,I,sigma) +extra informations in it.\n",
      "\n"
     ]
    }
   ],
   "source": [
    "help(ai.integrate1d_ng)"
   ]
  },
  {
   "cell_type": "markdown",
   "metadata": {},
   "source": [
    "The result file contains the integrated data with some headers as shown:"
   ]
  },
  {
   "cell_type": "code",
   "execution_count": 5,
   "metadata": {},
   "outputs": [
    {
     "name": "stdout",
     "output_type": "stream",
     "text": [
      "# == pyFAI calibration ==\n",
      "# Distance Sample to Detector: 0.16254673947902704 m\n",
      "# PONI: 9.637e-02, 8.601e-02 m\n",
      "# Rotations: 0.002605 0.000641 0.000000 rad\n",
      "#\n",
      "# == Fit2d calibration ==\n",
      "# Distance Sample-beamCenter: 162.547 mm\n",
      "# Center: x=1141.104, y=1286.257 pix\n",
      "# Tilt: 0.154 deg  TiltPlanRot: 166.178 deg\n",
      "#\n",
      "# Detector Eiger 4M\t PixelSize= 7.500e-05, 7.500e-05 m\n",
      "#    Detector has a mask: True\n",
      "#    Detector has a dark current: False\n",
      "#    detector has a flat field: False\n",
      "#\n",
      "# Wavelength: 9.218156017338309e-11 m\n",
      "# Mask applied: user provided\n",
      "# Dark current applied: False\n",
      "# Flat field applied: False\n",
      "# Polarization factor: None\n",
      "# Normalization factor: 1.0\n",
      "# --> integrated.dat\n",
      "#       2th_deg             I\n",
      "1.919453e-02    1.069850e+02\n",
      "5.758360e-02    1.369700e+02\n",
      "9.597267e-02    1.055188e+03\n",
      "1.343617e-01    7.239056e+03\n",
      "1.727508e-01    0.000000e+00\n",
      "2.111399e-01    2.046833e+04\n",
      "2.495289e-01    1.767070e+04\n",
      "2.879180e-01    1.170921e+04\n",
      "3.263071e-01    7.144741e+03\n",
      "3.646961e-01    4.495773e+03\n",
      "4.030852e-01    2.918518e+03\n",
      "4.414743e-01    1.955721e+03\n",
      "4.798634e-01    1.355407e+03\n",
      "5.182524e-01    9.685624e+02\n",
      "5.566415e-01    7.158431e+02\n",
      "5.950306e-01    5.435185e+02\n",
      "6.334196e-01    4.240502e+02\n",
      "6.718087e-01    3.373719e+02\n",
      "7.101978e-01    2.713134e+02\n",
      "7.485868e-01    2.221988e+02\n",
      "7.869759e-01    1.840064e+02\n",
      "8.253650e-01    1.547038e+02\n",
      "8.637540e-01    1.308537e+02\n",
      "9.021431e-01    1.118037e+02\n",
      "9.405322e-01    9.608986e+01\n",
      "9.789212e-01    8.361961e+01\n",
      "1.017310e+00    7.308742e+01\n"
     ]
    }
   ],
   "source": [
    "with open(\"integrated.dat\") as f:\n",
    "    for i in range(50):\n",
    "        print(f.readline().strip())"
   ]
  },
  {
   "cell_type": "markdown",
   "metadata": {},
   "source": [
    "### Azimuthal regrouping using pyFAI\n",
    "\n",
    "This option is similar to the integration but performs N integrations on various azimuthal angle (chi) sections of the space. It is also named \"caking\" in Fit2D.\n",
    "\n",
    "The azimuthal regrouping of an image over 500 radial bins in 360 angular steps (of 1 degree) can be performed like this:\n"
   ]
  },
  {
   "cell_type": "code",
   "execution_count": 6,
   "metadata": {},
   "outputs": [],
   "source": [
    "res2 = ai.integrate2d_ng(img_array, \n",
    "                         500, 360, \n",
    "                         unit=\"r_mm\", \n",
    "                         filename=\"integrated.edf\")"
   ]
  },
  {
   "cell_type": "code",
   "execution_count": 7,
   "metadata": {},
   "outputs": [
    {
     "name": "stdout",
     "output_type": "stream",
     "text": [
      "{\n",
      "  \"EDF_DataBlockID\": \"0.Image.Psd\",\n",
      "  \"EDF_BinarySize\": \"720000\",\n",
      "  \"EDF_HeaderSize\": \"1536\",\n",
      "  \"ByteOrder\": \"LowByteFirst\",\n",
      "  \"DataType\": \"FloatValue\",\n",
      "  \"Dim_1\": \"500\",\n",
      "  \"Dim_2\": \"360\",\n",
      "  \"Image\": \"0\",\n",
      "  \"HeaderID\": \"EH:000000:000000:000000\",\n",
      "  \"Size\": \"720000\",\n",
      "  \"Engine\": \"Detector Eiger 4M PixelSize= 7.500e-05, 7.500e-05 m Wavelength= 9.218156e-11 m SampleDetDist= 1.625467e-01 m PONI= 9.636511e-02, 8.600623e-02 m rot1=0.002605 rot2=0.000641 rot3=0.000000 rad DirectBeamDist= 162.547 mm Center: x=1141.104, y=1286.257 pix Tilt= 0.154 tiltPlanRotation= 166.178 = 0.922\",\n",
      "  \"detector\": \"Eiger 4M\",\n",
      "  \"pixel1\": \"7.5e-05\",\n",
      "  \"pixel2\": \"7.5e-05\",\n",
      "  \"max_shape\": \"(2167, 2070)\",\n",
      "  \"dist\": \"0.16254673947902704\",\n",
      "  \"poni1\": \"0.09636511239091199\",\n",
      "  \"poni2\": \"0.08600622810318177\",\n",
      "  \"rot1\": \"0.0026048269580961157\",\n",
      "  \"rot2\": \"0.0006408875619633374\",\n",
      "  \"rot3\": \"7.381054962294179e-11\",\n",
      "  \"wavelength\": \"9.218156017338309e-11\",\n",
      "  \"r_mm_min\": \"0.1289601535655313\",\n",
      "  \"r_mm_max\": \"128.83119341196578\",\n",
      "  \"chi_min\": \"-179.4870352534758\",\n",
      "  \"chi_max\": \"179.50004446145505\",\n",
      "  \"has_mask_applied\": \"from detector\",\n",
      "  \"has_dark_correction\": \"False\",\n",
      "  \"has_flat_correction\": \"False\",\n",
      "  \"polarization_factor\": \"None\",\n",
      "  \"normalization_factor\": \"1.0\"\n",
      "}\n",
      "cake: <class 'numpy.ndarray'> (360, 500) float32\n"
     ]
    }
   ],
   "source": [
    "cake = fabio.open(\"integrated.edf\")\n",
    "print(cake.header)\n",
    "print(\"cake:\", type(cake.data), cake.data.shape, cake.data.dtype)\n"
   ]
  },
  {
   "cell_type": "markdown",
   "metadata": {},
   "source": [
    "From this, it is trivial to perform a loop and integrate many images. \n",
    "\n",
    "*Attention:* The AzimuthalIntegrator object (called `ai` here) is rather large and costly to initialize. The best practice is to create it once and to use it many times, like this:"
   ]
  },
  {
   "cell_type": "code",
   "execution_count": 8,
   "metadata": {},
   "outputs": [],
   "source": [
    "import glob, os\n",
    "\n",
    "all_images = glob.glob(\"Eiger4M_*.edf\")\n",
    "ai = pyFAI.load(\"alpha-Al2O3.poni\")\n",
    "\n",
    "for one_image in all_images:\n",
    "    fimg = fabio.open(one_image)\n",
    "    dest = os.path.splitext(one_image)[0] + \".dat\"\n",
    "    ai.integrate1d_ng(fimg.data, \n",
    "                   1000, \n",
    "                   unit=\"2th_deg\", \n",
    "                   filename=dest)"
   ]
  },
  {
   "cell_type": "markdown",
   "metadata": {},
   "source": [
    "## Using some advanced features of Jupyter Notebooks\n",
    "\n",
    "Jupyter notebooks offer some advanced visualization features, especially when used with *matplotlib* and *pyFAI*.\n",
    "Unfortunately, the example shown hereafter will not work properly in normal Python scipts.\n",
    "\n",
    "### Initialization of the notebook for matplotlib integration:\n"
   ]
  },
  {
   "cell_type": "code",
   "execution_count": 9,
   "metadata": {},
   "outputs": [],
   "source": [
    "from pyFAI.gui import jupyter"
   ]
  },
  {
   "cell_type": "markdown",
   "metadata": {},
   "source": [
    "### Visualization of different types of results previously calculated"
   ]
  },
  {
   "cell_type": "code",
   "execution_count": 10,
   "metadata": {},
   "outputs": [
    {
     "data": {
      "image/png": "[encoded data removed]",
      "text/plain": [
       "<Figure size 432x288 with 1 Axes>"
      ]
     },
     "metadata": {
      "needs_background": "light"
     },
     "output_type": "display_data"
    }
   ],
   "source": [
    "ax = jupyter.display(img.data, label=img.filename)"
   ]
  },
  {
   "cell_type": "code",
   "execution_count": 11,
   "metadata": {},
   "outputs": [
    {
     "data": {
      "image/png": "[encoded data removed]",
      "text/plain": [
       "<Figure size 432x288 with 1 Axes>"
      ]
     },
     "metadata": {
      "needs_background": "light"
     },
     "output_type": "display_data"
    }
   ],
   "source": [
    "ax = jupyter.plot1d(res)"
   ]
  },
  {
   "cell_type": "code",
   "execution_count": 12,
   "metadata": {},
   "outputs": [
    {
     "data": {
      "image/png": "[encoded data removed]",
      "text/plain": [
       "<Figure size 432x288 with 1 Axes>"
      ]
     },
     "metadata": {
      "needs_background": "light"
     },
     "output_type": "display_data"
    }
   ],
   "source": [
    "ax = jupyter.plot2d(res2)"
   ]
  },
  {
   "cell_type": "markdown",
   "metadata": {},
   "source": [
    "## Conclusion\n",
    "\n",
    "This cookbook explains the basic usage of pyFAI as a Python library for azimuthal integration and simple visualization in the Jupyter notebook."
   ]
  },
  {
   "cell_type": "code",
   "execution_count": 13,
   "metadata": {},
   "outputs": [
    {
     "name": "stdout",
     "output_type": "stream",
     "text": [
      "Total execution time:  5.615 s\n"
     ]
    }
   ],
   "source": [
    "print(f\"Total execution time: {time.perf_counter() - t0 :6.3f} s\")"
   ]
  }
 ],
 "metadata": {
  "kernelspec": {
   "display_name": "Python 3",
   "language": "python",
   "name": "python3"
  },
  "language_info": {
   "codemirror_mode": {
    "name": "ipython",
    "version": 3
   },
   "file_extension": ".py",
   "mimetype": "text/x-python",
   "name": "python",
   "nbconvert_exporter": "python",
   "pygments_lexer": "ipython3",
   "version": "3.9.5"
  }
 },
 "nbformat": 4,
 "nbformat_minor": 4
}
