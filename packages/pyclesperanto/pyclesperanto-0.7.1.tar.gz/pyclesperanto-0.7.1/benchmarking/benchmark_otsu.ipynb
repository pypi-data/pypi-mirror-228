{
 "cells": [
  {
   "cell_type": "code",
   "execution_count": 1,
   "metadata": {},
   "outputs": [],
   "source": [
    "import timeit\n",
    "import numpy as np\n",
    "import pandas as pd\n",
    "from functools import partial\n",
    "import matplotlib.pyplot as plt\n",
    "\n",
    "from skimage.filters import threshold_otsu\n",
    "import pyclesperanto_prototype as proto\n",
    "import pyclesperanto as cle\n",
    "\n",
    "cle.select_device()\n",
    "cle.set_wait_for_kernel_to_finish(True)\n",
    "\n",
    "proto.select_device()\n",
    "proto.set_wait_for_kernel_finish(True)\n",
    "\n",
    "sizes = np.arange(1, 200, 10)\n",
    "\n",
    "warmup_iter = 1\n",
    "eval_iter = 3\n",
    "seed_value = 42"
   ]
  },
  {
   "cell_type": "code",
   "execution_count": 2,
   "metadata": {},
   "outputs": [],
   "source": [
    "def mb_to_bytes(mb:int = 1) -> int:\n",
    "    return mb * 1024 * 1024\n",
    "\n",
    "def shape_from_elements(bytes:int) -> tuple:\n",
    "    elements = bytes / 4\n",
    "    shape = int(np.power(elements, 1/3))\n",
    "    return (shape, shape, shape)\n",
    "\n",
    "def generate_random_image(size:int = 128) -> np.ndarray:\n",
    "    \"\"\"\n",
    "    Generates a random image of given size and sigma.\n",
    "    \"\"\"\n",
    "    shape = shape_from_elements(mb_to_bytes(size))\n",
    "    return np.random.rand(shape[0], shape[1], shape[2]).astype(np.float32)\n",
    "\n",
    "def benchmark_function(target_function, operation:str, framework:str) -> pd.DataFrame:\n",
    "    \"\"\"\n",
    "    Tests a function on a couple of image sizes and returns times taken for processing.\n",
    "    \"\"\"\n",
    "    np.random.seed(seed_value)\n",
    "    benchmark_data = []\n",
    "    for size in sizes:\n",
    "        # make new data\n",
    "        image = generate_random_image(size)\n",
    "        size_mb = image.size * image.itemsize / 1024 / 1024\n",
    "        # bind target function to given image\n",
    "        partial_function = partial(target_function, image)\n",
    "        # warmup       \n",
    "        _ = timeit.timeit(partial_function, number=warmup_iter)\n",
    "        # measure execution time\n",
    "        time_in_s = timeit.timeit(partial_function, number=eval_iter)\n",
    "        \n",
    "        print(f\"Processing {image.shape} of {size_mb} Mb with {framework}... {time_in_s} s\")\n",
    "\n",
    "        # store results\n",
    "        benchmark_data.append(pd.DataFrame({\"benchmark\": operation, \"framework\": framework, \"size\": size_mb, \"time\": time_in_s}, index=[0]))\n",
    "    return pd.concat(benchmark_data)"
   ]
  },
  {
   "cell_type": "markdown",
   "metadata": {},
   "source": [
    "# Threshold Otsu"
   ]
  },
  {
   "cell_type": "markdown",
   "metadata": {},
   "source": [
    "### Prototype"
   ]
  },
  {
   "cell_type": "code",
   "execution_count": 3,
   "metadata": {},
   "outputs": [],
   "source": [
    "def prototype_function(image):\n",
    "    proto.threshold_otsu(source=image)"
   ]
  },
  {
   "cell_type": "code",
   "execution_count": 4,
   "metadata": {},
   "outputs": [
    {
     "name": "stdout",
     "output_type": "stream",
     "text": [
      "Processing (63, 63, 63) of 0.9538536071777344 Mb with prototype... 0.023157065999839688 s\n",
      "Processing (142, 142, 142) of 10.922576904296875 Mb with prototype... 0.06955471699984628 s\n",
      "Processing (176, 176, 176) of 20.796875 Mb with prototype... 0.08488261200000125 s\n",
      "Processing (201, 201, 201) of 30.97763442993164 Mb with prototype... 0.13066659899959632 s\n",
      "Processing (220, 220, 220) of 40.618896484375 Mb with prototype... 0.1505965380001726 s\n",
      "Processing (237, 237, 237) of 50.78145217895508 Mb with prototype... 0.19436538599984488 s\n",
      "Processing (251, 251, 251) of 60.3227653503418 Mb with prototype... 0.21175708400005533 s\n",
      "Processing (265, 265, 265) of 70.99008560180664 Mb with prototype... 0.21283229000073334 s\n",
      "Processing (276, 276, 276) of 80.202392578125 Mb with prototype... 0.21730044800096948 s\n",
      "Processing (287, 287, 287) of 90.17907333374023 Mb with prototype... 0.2575057679987367 s\n",
      "Processing (298, 298, 298) of 100.95059204101562 Mb with prototype... 0.2652056300012191 s\n",
      "Processing (307, 307, 307) of 110.37614059448242 Mb with prototype... 0.34701038700040954 s\n",
      "Processing (316, 316, 316) of 120.370849609375 Mb with prototype... 0.2784679149990552 s\n",
      "Processing (325, 325, 325) of 130.9514045715332 Mb with prototype... 0.3075378659996204 s\n",
      "Processing (333, 333, 333) of 140.86165237426758 Mb with prototype... 0.34305934100120794 s\n",
      "Processing (340, 340, 340) of 149.932861328125 Mb with prototype... 0.3513184889998229 s\n",
      "Processing (348, 348, 348) of 160.767333984375 Mb with prototype... 0.37887603499984834 s\n",
      "Processing (355, 355, 355) of 170.66526412963867 Mb with prototype... 0.41561173899935966 s\n",
      "Processing (362, 362, 362) of 180.96133422851562 Mb with prototype... 0.40329048600142414 s\n",
      "Processing (368, 368, 368) of 190.109375 Mb with prototype... 0.41932088999965345 s\n"
     ]
    }
   ],
   "source": [
    "prototype_benchmark_data = benchmark_function(prototype_function, \"otsu\", \"prototype\")"
   ]
  },
  {
   "cell_type": "markdown",
   "metadata": {},
   "source": [
    "### Pyclesperanto"
   ]
  },
  {
   "cell_type": "code",
   "execution_count": 5,
   "metadata": {},
   "outputs": [],
   "source": [
    "def pycle_function(image):\n",
    "    cle.threshold_otsu(input_image=image)"
   ]
  },
  {
   "cell_type": "code",
   "execution_count": 6,
   "metadata": {},
   "outputs": [
    {
     "name": "stdout",
     "output_type": "stream",
     "text": [
      "Processing (63, 63, 63) of 0.9538536071777344 Mb with pyclesperanto... 0.012911118999909377 s\n",
      "Processing (142, 142, 142) of 10.922576904296875 Mb with pyclesperanto... 0.05097369999930379 s\n",
      "Processing (176, 176, 176) of 20.796875 Mb with pyclesperanto... 0.07945117499912158 s\n",
      "Processing (201, 201, 201) of 30.97763442993164 Mb with pyclesperanto... 0.12932291899960546 s\n",
      "Processing (220, 220, 220) of 40.618896484375 Mb with pyclesperanto... 0.13104553199991642 s\n",
      "Processing (237, 237, 237) of 50.78145217895508 Mb with pyclesperanto... 0.17098883200014825 s\n",
      "Processing (251, 251, 251) of 60.3227653503418 Mb with pyclesperanto... 0.1944377510008053 s\n",
      "Processing (265, 265, 265) of 70.99008560180664 Mb with pyclesperanto... 0.18492558899924916 s\n",
      "Processing (276, 276, 276) of 80.202392578125 Mb with pyclesperanto... 0.19256911400043464 s\n",
      "Processing (287, 287, 287) of 90.17907333374023 Mb with pyclesperanto... 0.23488520899991272 s\n",
      "Processing (298, 298, 298) of 100.95059204101562 Mb with pyclesperanto... 0.24700286100051017 s\n",
      "Processing (307, 307, 307) of 110.37614059448242 Mb with pyclesperanto... 0.34579040199969313 s\n",
      "Processing (316, 316, 316) of 120.370849609375 Mb with pyclesperanto... 0.2714929720004875 s\n",
      "Processing (325, 325, 325) of 130.9514045715332 Mb with pyclesperanto... 0.3095885479997378 s\n",
      "Processing (333, 333, 333) of 140.86165237426758 Mb with pyclesperanto... 0.3465827760010143 s\n",
      "Processing (340, 340, 340) of 149.932861328125 Mb with pyclesperanto... 0.3369578649999312 s\n",
      "Processing (348, 348, 348) of 160.767333984375 Mb with pyclesperanto... 0.37438423200001125 s\n",
      "Processing (355, 355, 355) of 170.66526412963867 Mb with pyclesperanto... 0.38448813400100335 s\n",
      "Processing (362, 362, 362) of 180.96133422851562 Mb with pyclesperanto... 0.4000402130004659 s\n",
      "Processing (368, 368, 368) of 190.109375 Mb with pyclesperanto... 0.3869241760003206 s\n"
     ]
    }
   ],
   "source": [
    "pycle_benchmark_data = benchmark_function(pycle_function, \"otsu\", \"pyclesperanto\")"
   ]
  },
  {
   "cell_type": "markdown",
   "metadata": {},
   "source": [
    "### Skimage"
   ]
  },
  {
   "cell_type": "code",
   "execution_count": 7,
   "metadata": {},
   "outputs": [],
   "source": [
    "def skimage_function(image):\n",
    "    res = image > threshold_otsu(image)"
   ]
  },
  {
   "cell_type": "code",
   "execution_count": 8,
   "metadata": {},
   "outputs": [
    {
     "name": "stdout",
     "output_type": "stream",
     "text": [
      "Processing (63, 63, 63) of 0.9538536071777344 Mb with scikit-image... 0.007539713000369375 s\n",
      "Processing (142, 142, 142) of 10.922576904296875 Mb with scikit-image... 0.07970993100025225 s\n",
      "Processing (176, 176, 176) of 20.796875 Mb with scikit-image... 0.14834493799935444 s\n",
      "Processing (201, 201, 201) of 30.97763442993164 Mb with scikit-image... 0.22096108100049605 s\n",
      "Processing (220, 220, 220) of 40.618896484375 Mb with scikit-image... 0.30769871800112014 s\n",
      "Processing (237, 237, 237) of 50.78145217895508 Mb with scikit-image... 0.3894883220000338 s\n",
      "Processing (251, 251, 251) of 60.3227653503418 Mb with scikit-image... 0.45053316399935284 s\n",
      "Processing (265, 265, 265) of 70.99008560180664 Mb with scikit-image... 0.5440817199996673 s\n",
      "Processing (276, 276, 276) of 80.202392578125 Mb with scikit-image... 0.6114008090007701 s\n",
      "Processing (287, 287, 287) of 90.17907333374023 Mb with scikit-image... 0.6872978070005047 s\n",
      "Processing (298, 298, 298) of 100.95059204101562 Mb with scikit-image... 0.7632462149995263 s\n",
      "Processing (307, 307, 307) of 110.37614059448242 Mb with scikit-image... 0.8325566860003164 s\n",
      "Processing (316, 316, 316) of 120.370849609375 Mb with scikit-image... 0.9042511489988101 s\n",
      "Processing (325, 325, 325) of 130.9514045715332 Mb with scikit-image... 0.9963673570000537 s\n",
      "Processing (333, 333, 333) of 140.86165237426758 Mb with scikit-image... 1.0754262789996574 s\n",
      "Processing (340, 340, 340) of 149.932861328125 Mb with scikit-image... 1.167181315999187 s\n",
      "Processing (348, 348, 348) of 160.767333984375 Mb with scikit-image... 1.2267121889999544 s\n",
      "Processing (355, 355, 355) of 170.66526412963867 Mb with scikit-image... 1.3323964539995359 s\n",
      "Processing (362, 362, 362) of 180.96133422851562 Mb with scikit-image... 1.3882401829996525 s\n",
      "Processing (368, 368, 368) of 190.109375 Mb with scikit-image... 1.4435404959986045 s\n"
     ]
    }
   ],
   "source": [
    "skimage_benchmark_data = benchmark_function(skimage_function, \"otsu\", \"scikit-image\")"
   ]
  },
  {
   "cell_type": "markdown",
   "metadata": {},
   "source": [
    "# Results"
   ]
  },
  {
   "cell_type": "code",
   "execution_count": 9,
   "metadata": {},
   "outputs": [
    {
     "data": {
      "image/png": "[encoded data removed]",
      "text/plain": [
       "<Figure size 640x480 with 1 Axes>"
      ]
     },
     "metadata": {},
     "output_type": "display_data"
    }
   ],
   "source": [
    "import seaborn as sns\n",
    "\n",
    "bench = pd.concat([skimage_benchmark_data, pycle_benchmark_data, prototype_benchmark_data])\n",
    "\n",
    "sns.lineplot(data=bench, x=\"size\", y=\"time\", hue=\"framework\")\n",
    "plt.title(\"Otsu thresholding\")\n",
    "plt.xlabel(\"Image size in Mb\")\n",
    "plt.ylabel(\"Time in s\")\n",
    "plt.show()"
   ]
  }
 ],
 "metadata": {
  "kernelspec": {
   "display_name": "Python 3.10.4 ('skbuild')",
   "language": "python",
   "name": "python3"
  },
  "language_info": {
   "codemirror_mode": {
    "name": "ipython",
    "version": 3
   },
   "file_extension": ".py",
   "mimetype": "text/x-python",
   "name": "python",
   "nbconvert_exporter": "python",
   "pygments_lexer": "ipython3",
   "version": "3.10.4"
  },
  "vscode": {
   "interpreter": {
    "hash": "1bf89b5e425e511e6208a82dd7a3225392f448ad069ddd9557f507f6073233bf"
   }
  }
 },
 "nbformat": 4,
 "nbformat_minor": 4
}
